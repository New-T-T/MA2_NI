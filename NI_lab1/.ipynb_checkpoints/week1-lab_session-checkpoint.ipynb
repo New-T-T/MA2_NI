{
 "cells": [
  {
   "cell_type": "markdown",
   "metadata": {
    "solution": "shown",
    "toc": true
   },
   "source": [
    "<h1>Table of Contents<span class=\"tocSkip\"></span></h1>\n",
    "<div class=\"toc\"><ul class=\"toc-item\"><li><span><a href=\"#Exercise-1:-Neurons-and-Firing-frequency\" data-toc-modified-id=\"Exercise-1:-Neurons-and-Firing-frequency-1\"><span class=\"toc-item-num\">1&nbsp;&nbsp;</span>Exercise 1: Neurons and Firing frequency</a></span></li><li><span><a href=\"#Recap\" data-toc-modified-id=\"Recap-2\"><span class=\"toc-item-num\">2&nbsp;&nbsp;</span>Recap</a></span></li><li><span><a href=\"#LAB-01,-Frequency-Input-and-Frequency-Frequency\" data-toc-modified-id=\"LAB-01,-Frequency-Input-and-Frequency-Frequency-3\"><span class=\"toc-item-num\">3&nbsp;&nbsp;</span>LAB 01, Frequency-Input and Frequency-Frequency</a></span><ul class=\"toc-item\"><li><span><a href=\"#Frequency-Input-curve-of-an-integrate-and-fire-neuron.\" data-toc-modified-id=\"Frequency-Input-curve-of-an-integrate-and-fire-neuron.-3.1\"><span class=\"toc-item-num\">3.1&nbsp;&nbsp;</span>Frequency-Input curve of an integrate-and-fire neuron.</a></span></li><li><span><a href=\"#Frequency-Frequency-curve-of-an-integrate-and-fire-neuron.\" data-toc-modified-id=\"Frequency-Frequency-curve-of-an-integrate-and-fire-neuron.-3.2\"><span class=\"toc-item-num\">3.2&nbsp;&nbsp;</span>Frequency-Frequency curve of an integrate-and-fire neuron.</a></span></li><li><span><a href=\"#Submission\" data-toc-modified-id=\"Submission-3.3\"><span class=\"toc-item-num\">3.3&nbsp;&nbsp;</span>Submission</a></span></li></ul></li></ul></div>"
   ]
  },
  {
   "cell_type": "markdown",
   "metadata": {},
   "source": [
    "# Exercise 1: Neurons and Firing frequency\n",
    "\n",
    "\n",
    "Prepared by  **Maryada, Farah Baracat, Jingyue Zhao, Elisa Donati and Giacomo Indiveri**\n",
    "\n",
    "\n",
    "_The Institute of Neuroinformatics, University of Zurich and ETH Zurich_\n",
    "\n",
    "[Contact Us](https://www.ini.uzh.ch/en/research/groups/ncs/people.html)\n",
    "\n",
    "<div class=\"alert alert-block alert-success\">\n",
    "In this exercise we will use tools from neuroscience community to learn some dynamics of spiking neurons. \n",
    "    \n",
    "- <b>PART A:</b> Simulate and monitor an <b>integrate-and-fire neuron (IAF) neuron </b>, and plot its \"Frequency-Input (FI) curve\".\n",
    "\n",
    "\n",
    "- <b>PART B:</b> Simulate a neuron with one excitatory synapse and do a Frequency-Frequency (FF) curve. Observe how the curve varies for:\n",
    "    - Different synaptic weights.\n",
    "    - Refactory period \n",
    "</div>"
   ]
  },
  {
   "cell_type": "markdown",
   "metadata": {},
   "source": [
    "So, let's start with importing Brian2."
   ]
  },
  {
   "cell_type": "code",
   "execution_count": null,
   "metadata": {},
   "outputs": [],
   "source": [
    "from brian2 import *\n",
    "import numpy as np"
   ]
  },
  {
   "cell_type": "markdown",
   "metadata": {
    "solution": "hidden",
    "solution_first": true
   },
   "source": [
    "### Integrate-and-fire (leaky I&F)  neuron model\n",
    "Let’s start by defining the neuron model. In Brian, all models are defined by systems of differential equations. Here’s a simple example of an integrate-and-fire neuron model:\n",
    "\n",
    "<img src='./IAF.png'/>\n",
    "\n",
    "### Equation\n",
    "<div style=\"font-size:25px;\">\n",
    "$$\\tau_{m} \\frac{dv}{dt} = - v(t) + V_{ext}$$\n",
    "</div>"
   ]
  },
  {
   "cell_type": "markdown",
   "metadata": {
    "solution": "hidden"
   },
   "source": [
    "<div class=\"alert alert-block alert-warning\">\n",
    " <b>How this works:</b>.\n",
    "<br/>\n",
    "Neuronal dynamics can be conceived as a <b>summation process</b> (sometimes also called ‘integration’ process) combined with a mechanism that triggers action potentials above some <b>critical voltage</b>. \n",
    "    \n",
    "For more details and derivation:  \n",
    "\n",
    "https://neuronaldynamics.epfl.ch/online/Ch1.S3.html\n",
    "\n",
    "</div>"
   ]
  },
  {
   "cell_type": "markdown",
   "metadata": {},
   "source": [
    "# Recap"
   ]
  },
  {
   "cell_type": "markdown",
   "metadata": {
    "deletable": false,
    "editable": false,
    "run_control": {
     "frozen": true
    }
   },
   "source": [
    "***\n",
    "<p style=\"color:blue;font-size:20px;\"> Before we begin, Checklist from Lab00 session </p>\n",
    "\n",
    "***\n",
    "\n",
    "- A *NeuronGroup* with \"any\" neuonal dynamics defined using a differential equation. \n",
    "- A *Synapse* used to connect two groups, could be two neuron groups or input stimuli\n",
    "- A *Monitor* to \"read\" output from a NeuronGroup\n",
    "- Plotting the output"
   ]
  },
  {
   "cell_type": "markdown",
   "metadata": {},
   "source": [
    "<p style=\"color:red;font-size:20px;\"> Have you already tried simulating <b> multiple runs</b>?</p>\n",
    "\n",
    "**IMPORTANT** Concepts\n",
    "- Store and Restore\n",
    "- Network object"
   ]
  },
  {
   "cell_type": "markdown",
   "metadata": {},
   "source": [
    "# LAB 01, Frequency-Input and Frequency-Frequency "
   ]
  },
  {
   "cell_type": "markdown",
   "metadata": {},
   "source": [
    "## Frequency-Input curve of an integrate-and-fire neuron."
   ]
  },
  {
   "cell_type": "markdown",
   "metadata": {},
   "source": [
    "***\n",
    "**Step 1:** Define an equation integrate-and-fire neuron (LIF) with an input parameter $V_{ext}$ (in $volt$), neuron time constant as $\\tau$ = 20 $ms$ and membrane voltage as $v$ (in $volt$)\n",
    "***"
   ]
  },
  {
   "cell_type": "code",
   "execution_count": null,
   "metadata": {},
   "outputs": [],
   "source": [
    "## Add your code here"
   ]
  },
  {
   "cell_type": "markdown",
   "metadata": {
    "deletable": false,
    "editable": false,
    "run_control": {
     "frozen": true
    }
   },
   "source": [
    "***\n",
    "**Step 2:** Create a NeuronGroup with resting potential set to $0mV$, refractory period as $5ms$ and threshold for spiking is set to $15mV$\n",
    "\n",
    "***"
   ]
  },
  {
   "cell_type": "code",
   "execution_count": null,
   "metadata": {},
   "outputs": [],
   "source": [
    "## Add your code here"
   ]
  },
  {
   "cell_type": "markdown",
   "metadata": {
    "deletable": false,
    "editable": false,
    "run_control": {
     "frozen": true
    }
   },
   "source": [
    "***\n",
    "<b> Step 3: </b> Study the effect of external input\n",
    "***\n",
    "    \n",
    "<b> Step 3A: </b> Induce input of amplitude with different values:  $14mV$, $15mV$, $16mV$ and $20mV$ (or more) and simulate for a duration of $500ms$  <br/>\n",
    "<b> Step 3B: </b>Use <b>StateMonitor</b> to obsever change in $v$ in addition to SpikeMonitor. <br/>\n",
    "<b> Step 3C: </b>Save plots for the values mentioned in Step 3A. Label the axes and set title of the plot as amplitute value.\n",
    "\n",
    "***"
   ]
  },
  {
   "cell_type": "code",
   "execution_count": null,
   "metadata": {},
   "outputs": [],
   "source": [
    "## Add your code here"
   ]
  },
  {
   "cell_type": "markdown",
   "metadata": {},
   "source": [
    "<div class=\"alert alert-block alert-success\">\n",
    "    \n",
    "<b>Answer the following as a Markdown cell</b>. \n",
    "- Explain the behaviour around $15mV$. Why does the behaviour vary for $14mV$ and $16mV$.\n",
    "- What value would you change to achieve similar behaviour at $20mV$ instead of $15mV$  \n",
    "</div>\n",
    "\n",
    "***\n",
    "**Add your explaination here**\n",
    "***\n",
    "\n",
    "<div class=\"alert alert-block alert-info\">\n",
    "    In my opinion, .... \n",
    "</div>"
   ]
  },
  {
   "cell_type": "markdown",
   "metadata": {
    "deletable": false,
    "editable": false,
    "run_control": {
     "frozen": true
    }
   },
   "source": [
    "***\n",
    "<b> Step 4: </b> Plot the <b>Frequency-Input</b> curve with input ranging from $0$ ~ $30 mV$? Feel free to pick the step size. Simulation duration = 1 second  <br/><br/> \n",
    "    <b>Option 1: </b> Create a NeuronGroup with N (neuron count) ~ different values of input and run <i> a single </i> simulation. <br/>\n",
    "    <b>Option 2: </b> Encapsulate all components in a <b>Network</b> object. Use store and restore technique\n",
    "<br/>\n",
    "<br/>\n",
    "    <b>Note:</b> Time the two methods and see if the two gives same results or not. \n",
    "***"
   ]
  },
  {
   "cell_type": "markdown",
   "metadata": {
    "deletable": false,
    "editable": false,
    "run_control": {
     "frozen": true
    }
   },
   "source": [
    "<p style=\"color:red;font-size:20px;\"> \n",
    "Fill the code lines where you see a #hash. Or use your own style.\n",
    "<br/><br/>\n",
    "During the class, please only do one of the two option and move to section 3.2 \n",
    " </p>"
   ]
  },
  {
   "cell_type": "markdown",
   "metadata": {
    "heading_collapsed": true
   },
   "source": [
    "### TODO: Plot the Frequency-Input curve, multiple runs of 1 neuron"
   ]
  },
  {
   "cell_type": "code",
   "execution_count": null,
   "metadata": {
    "hidden": true
   },
   "outputs": [],
   "source": [
    "start_scope()\n",
    "\n",
    "duration = # set time duration\n",
    "tau = 20*ms\n",
    "step = # set step size\n",
    "Iext_range = np.arange(0, 30, step)*mV\n",
    "firing_rates = []\n",
    "eqs = '''\n",
    "ADD EQUATION HERE\n",
    "'''\n",
    "# DEFINE NEURON GROUP\n",
    "\n",
    "# DEFINE MONITOR\n",
    "\n",
    "# CREATE NETWORK\n",
    "\n",
    "# STORE the current state of the network\n",
    "for Iext in Iext_range:\n",
    "    # RESTORE\n",
    "    # SIMULTAE\n",
    "    #SAVE DATA for current run\n",
    "    \n",
    "# PLOT\n",
    "xlabel(r'$I_{ext}$ (mV)')\n",
    "ylabel('Firing rate (Hz)')\n",
    "show()"
   ]
  },
  {
   "cell_type": "markdown",
   "metadata": {
    "deletable": false,
    "editable": false,
    "heading_collapsed": true,
    "run_control": {
     "frozen": true
    }
   },
   "source": [
    "### TODO: Plot the Frequency-Input curve, 1 run of multiple neurons"
   ]
  },
  {
   "cell_type": "code",
   "execution_count": null,
   "metadata": {
    "hidden": true
   },
   "outputs": [],
   "source": [
    "start_scope()\n",
    "\n",
    "duration = 1*second# set time duration\n",
    "tau = 20*ms\n",
    "step = 3# set step size\n",
    "Iext_range = np.arange(1, 30, step)*mV\n",
    "\n",
    "firing_rates = []\n",
    "\n",
    "eqs = '''\n",
    "ADD EQUATION HERE\n",
    "'''\n",
    "# DEFINE NEURON GROUP\n",
    "\n",
    "# DEFINE MONITOR\n",
    "\n",
    "# CREATE NETWORK\n",
    "\n",
    "# SIMULTAE\n",
    "#SAVE DATA for current run\n",
    "    \n",
    "# PLOT\n",
    "xlabel(r'$I_{ext}$ (mV)')\n",
    "ylabel('Firing rate (Hz)');"
   ]
  },
  {
   "cell_type": "markdown",
   "metadata": {
    "hidden": true
   },
   "source": [
    "<div class=\"alert alert-block alert-success\">\n",
    "\n",
    "<b>Answer the following as a Markdown cell</b>. \n",
    "- Saturation, shape of the curve\n",
    "- Change refactory period and redo the simulation\n",
    "</div>\n",
    "\n",
    "***\n",
    "**Add your explaination here**\n",
    "***\n",
    "\n",
    "<div class=\"alert alert-block alert-info\">\n",
    "    In my opinion,........\n",
    "</div>"
   ]
  },
  {
   "cell_type": "markdown",
   "metadata": {
    "deletable": false,
    "editable": false,
    "run_control": {
     "frozen": true
    }
   },
   "source": [
    "## Frequency-Frequency curve of an integrate-and-fire neuron.\n",
    "\n",
    "***\n",
    "**Key points**\n",
    "***\n",
    "<div class=\"alert alert-block alert-warning\">\n",
    "<b>[1]</b> In the next step, we will monitor the <b>Frequency-Frequency curve</b> of the neuron. A Frequency-Frequency curve illustrate relation between firing rate of a neuron <b>w.r.t</b> the frequency of input spikes received by the neuron via the synapse. \n",
    "  \n",
    "<b>[2]</b> Main difference from previous section is: Here we will use a <b>spike generator</b> to generate input spikes as the stimuli which are sent through the synapse to the neuron.\n",
    "\n",
    "<b>[3]</b> In this case, the Network consist of following elements: a spike generator, a neuron, and a synapse connecting these two.\n",
    "</div>"
   ]
  },
  {
   "cell_type": "markdown",
   "metadata": {
    "deletable": false,
    "editable": false,
    "run_control": {
     "frozen": true
    },
    "solution": "hidden"
   },
   "source": [
    "***\n",
    "<b> Step 1:  </b> Define a spike generator and generate spikes such that it produces 100 spikes during 1 second with a constant inter-spike interval (ISI). This will give us an input stimuli of 100 Hz.\n",
    "    \n",
    "<i>Remark:</i> In practice, we usually use Poisson distributed spikes to mimic the noisy biological spikes. Feel free to create your own \"Poisson-Spike generator\"\n",
    "***\n"
   ]
  },
  {
   "cell_type": "code",
   "execution_count": null,
   "metadata": {},
   "outputs": [],
   "source": [
    "# Add your code here"
   ]
  },
  {
   "cell_type": "markdown",
   "metadata": {
    "deletable": false,
    "editable": false,
    "run_control": {
     "frozen": true
    }
   },
   "source": [
    "***\n",
    "<b> Step 2:  </b> Create a NeuronGroup with resting potential set to $0mV$, refractory period as $5ms$ and threshold for spiking is set to $15mV$\n",
    "***"
   ]
  },
  {
   "cell_type": "code",
   "execution_count": null,
   "metadata": {},
   "outputs": [],
   "source": [
    "# Add your code here"
   ]
  },
  {
   "cell_type": "markdown",
   "metadata": {},
   "source": [
    "***\n",
    "<b> Step 3A:  </b> Create a Synapse with $w$ as a weight and $delay$ as transmission delays of the synapse. <br/>\n",
    "    <b> Step 3B:  </b> Make a one-to-one connection among NeuronGroup and SpikeGeneratorGroup.\n",
    "    <p style='color:red'> <b>IMPORTANT!! <br/><br/>\n",
    "        Don't forget to add weight parameter where you must </b>  \n",
    "</p> \n",
    "\n",
    "***"
   ]
  },
  {
   "cell_type": "code",
   "execution_count": null,
   "metadata": {},
   "outputs": [],
   "source": [
    "# Add your code here"
   ]
  },
  {
   "cell_type": "markdown",
   "metadata": {},
   "source": [
    "<div class=\"alert alert-block alert-success\">\n",
    "\n",
    "<b>Answer the following as a Markdown cell</b>  \n",
    "    \n",
    "What is the unit of your weight parameter? Is it <i>unitless</i>?<br/><br/>\n",
    "    If <b>yes</b>, can you change it to a physical unit?<br/> If <b>no</b>, can you make it unitless?\n",
    "</div>\n",
    "\n",
    "***\n",
    "**What changes you had to made for this**\n",
    "***\n",
    "\n",
    "<div class=\"alert alert-block alert-info\">\n",
    "    #todo\n",
    "</div>"
   ]
  },
  {
   "cell_type": "markdown",
   "metadata": {
    "deletable": false,
    "editable": false,
    "run_control": {
     "frozen": true
    }
   },
   "source": [
    "***\n",
    "<b> Step 4: </b> Plot the <b>Frequency-Frequency</b> curve with input ranging from $0$ ~ $200 Hz$? Feel free to pick the step size. Simulation duration = $1 second$ \n",
    "\n",
    " **Copy paste the previous code to save time**\n",
    "***"
   ]
  },
  {
   "cell_type": "code",
   "execution_count": null,
   "metadata": {},
   "outputs": [],
   "source": [
    "# TODO: plot the FF (output fequency VS input frequency)\n",
    "start_scope()\n",
    "\n",
    "duration = 1*second\n",
    "tau = 20*ms\n",
    "\n",
    "input_range = np.arange(0, 200, 20)\n",
    "firing_rates = []\n",
    "\n",
    "# Add your code here\n",
    "    \n",
    "plot(input_range, firing_rates, \".-\")\n",
    "xlabel('Input frequency (Hz)')\n",
    "ylabel('Output frequency (Hz)')\n",
    "show()"
   ]
  },
  {
   "cell_type": "markdown",
   "metadata": {},
   "source": [
    "Note: if you get \"MagicError: The magic network contains a mix of objects that has been run before and new objects, Brian does not know whether you want to start a new simulation or continue an old one.\", please re-run from the first cell of part 2."
   ]
  },
  {
   "cell_type": "markdown",
   "metadata": {
    "deletable": false,
    "editable": false,
    "run_control": {
     "frozen": true
    }
   },
   "source": [
    "<div class=\"alert alert-block alert-warning\">\n",
    "\n",
    "***\n",
    "**In the previous lecture, we discussed that F-F curve may varies based on certain parameters. For instance *synaptic weight*, *time constant*: $\\tau$, *refactory period*.**\n",
    "\n",
    "**To see this in action,**\n",
    "</div>\n",
    "\n",
    "<b>Step 5: </b> Plot F-F curve with different synaptic weight **ranging between 2. to 24. value** and plot the corresponding F-F curves in the same figure.\n",
    "    \n",
    "<br/>\n",
    "<i>Hint: If you want, you can use multiple neurons for weight + multiple runs for input rate. </i>\n",
    "\n",
    "***"
   ]
  },
  {
   "cell_type": "code",
   "execution_count": null,
   "metadata": {},
   "outputs": [],
   "source": [
    "# Add your code here"
   ]
  },
  {
   "cell_type": "markdown",
   "metadata": {},
   "source": [
    "<div class=\"alert alert-block alert-success\">\n",
    "\n",
    "<b>Answer the following as a Markdown cell</b>  \n",
    "    \n",
    "Do you see variation in neuronal behavior for different values of weights? Can you explain why?<br/><br/>\n",
    "   \n",
    "***\n",
    "\n",
    "</div>\n",
    "\n",
    "<div class=\"alert alert-block alert-info\">\n",
    "    #todo\n",
    "</div>\n"
   ]
  },
  {
   "cell_type": "markdown",
   "metadata": {},
   "source": [
    "***\n",
    "\n",
    "<b>Step 6: [TODO] </b> Repeat the same experiment for different values of refactory period **ranging between 2. to 30. ms** and compare it with your previous plot?\n",
    "    \n",
    "<br/>\n",
    "\n",
    "\n",
    "***"
   ]
  },
  {
   "cell_type": "markdown",
   "metadata": {},
   "source": [
    "## Submission\n",
    "Now, let's export the jupyter notebook \"week1.ipynb\" to HTML format for submission."
   ]
  },
  {
   "cell_type": "code",
   "execution_count": 1,
   "metadata": {},
   "outputs": [
    {
     "name": "stdout",
     "output_type": "stream",
     "text": [
      "[NbConvertApp] Converting notebook week1-lab_session.ipynb to html\n",
      "[NbConvertApp] Writing 585663 bytes to week1-lab_session.html\n"
     ]
    }
   ],
   "source": [
    "!jupyter nbconvert --to html week1-lab_session.ipynb"
   ]
  },
  {
   "cell_type": "markdown",
   "metadata": {},
   "source": [
    "Please rename the HTML file to \"Session01_Lastname_Firstname.html\", and then upload your file to your OLAT Drop Box."
   ]
  }
 ],
 "metadata": {
  "kernelspec": {
   "display_name": "Python 3 (ipykernel)",
   "language": "python",
   "name": "python3"
  },
  "language_info": {
   "codemirror_mode": {
    "name": "ipython",
    "version": 3
   },
   "file_extension": ".py",
   "mimetype": "text/x-python",
   "name": "python",
   "nbconvert_exporter": "python",
   "pygments_lexer": "ipython3",
   "version": "3.10.0"
  },
  "toc": {
   "base_numbering": 1,
   "nav_menu": {},
   "number_sections": true,
   "sideBar": true,
   "skip_h1_title": false,
   "title_cell": "Table of Contents",
   "title_sidebar": "Contents",
   "toc_cell": true,
   "toc_position": {},
   "toc_section_display": true,
   "toc_window_display": true
  }
 },
 "nbformat": 4,
 "nbformat_minor": 4
}
