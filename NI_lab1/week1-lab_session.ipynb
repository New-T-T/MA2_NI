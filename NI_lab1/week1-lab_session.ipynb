{
 "cells": [
  {
   "cell_type": "markdown",
   "metadata": {
    "solution": "shown",
    "toc": true
   },
   "source": [
    "<h1>Table of Contents<span class=\"tocSkip\"></span></h1>\n",
    "<div class=\"toc\"><ul class=\"toc-item\"><li><span><a href=\"#Exercise-1:-Neurons-and-Firing-frequency\" data-toc-modified-id=\"Exercise-1:-Neurons-and-Firing-frequency-1\"><span class=\"toc-item-num\">1&nbsp;&nbsp;</span>Exercise 1: Neurons and Firing frequency</a></span></li><li><span><a href=\"#Recap\" data-toc-modified-id=\"Recap-2\"><span class=\"toc-item-num\">2&nbsp;&nbsp;</span>Recap</a></span></li><li><span><a href=\"#LAB-01,-Frequency-Input-and-Frequency-Frequency\" data-toc-modified-id=\"LAB-01,-Frequency-Input-and-Frequency-Frequency-3\"><span class=\"toc-item-num\">3&nbsp;&nbsp;</span>LAB 01, Frequency-Input and Frequency-Frequency</a></span><ul class=\"toc-item\"><li><span><a href=\"#Frequency-Input-curve-of-an-integrate-and-fire-neuron.\" data-toc-modified-id=\"Frequency-Input-curve-of-an-integrate-and-fire-neuron.-3.1\"><span class=\"toc-item-num\">3.1&nbsp;&nbsp;</span>Frequency-Input curve of an integrate-and-fire neuron.</a></span></li><li><span><a href=\"#Frequency-Frequency-curve-of-an-integrate-and-fire-neuron.\" data-toc-modified-id=\"Frequency-Frequency-curve-of-an-integrate-and-fire-neuron.-3.2\"><span class=\"toc-item-num\">3.2&nbsp;&nbsp;</span>Frequency-Frequency curve of an integrate-and-fire neuron.</a></span></li><li><span><a href=\"#Submission\" data-toc-modified-id=\"Submission-3.3\"><span class=\"toc-item-num\">3.3&nbsp;&nbsp;</span>Submission</a></span></li></ul></li></ul></div>"
   ]
  },
  {
   "cell_type": "markdown",
   "metadata": {},
   "source": [
    "# Exercise 1: Neurons and Firing frequency\n",
    "\n",
    "\n",
    "Prepared by  **Maryada, Farah Baracat, Jingyue Zhao, Elisa Donati and Giacomo Indiveri**\n",
    "\n",
    "\n",
    "_The Institute of Neuroinformatics, University of Zurich and ETH Zurich_\n",
    "\n",
    "[Contact Us](https://www.ini.uzh.ch/en/research/groups/ncs/people.html)\n",
    "\n",
    "<div class=\"alert alert-block alert-success\">\n",
    "In this exercise we will use tools from neuroscience community to learn some dynamics of spiking neurons. \n",
    "    \n",
    "- <b>PART A:</b> Simulate and monitor an <b>integrate-and-fire neuron (IAF) neuron </b>, and plot its \"Frequency-Input (FI) curve\".\n",
    "\n",
    "\n",
    "- <b>PART B:</b> Simulate a neuron with one excitatory synapse and do a Frequency-Frequency (FF) curve. Observe how the curve varies for:\n",
    "    - Different synaptic weights.\n",
    "    - Refactory period \n",
    "</div>"
   ]
  },
  {
   "cell_type": "markdown",
   "metadata": {},
   "source": [
    "So, let's start with importing Brian2."
   ]
  },
  {
   "cell_type": "code",
   "execution_count": 1,
   "metadata": {},
   "outputs": [],
   "source": [
    "from brian2 import *\n",
    "import numpy\n",
    "%matplotlib inline"
   ]
  },
  {
   "cell_type": "markdown",
   "metadata": {
    "solution": "hidden",
    "solution_first": true
   },
   "source": [
    "### Integrate-and-fire (leaky I&F)  neuron model\n",
    "Let’s start by defining the neuron model. In Brian, all models are defined by systems of differential equations. Here’s a simple example of an integrate-and-fire neuron model:\n",
    "\n",
    "<img src='./IAF.png'/>\n",
    "\n",
    "### Equation\n",
    "<div style=\"font-size:25px;\">\n",
    "$$\\tau_{m} \\frac{dv}{dt} = - v(t) + V_{ext}$$\n",
    "</div>"
   ]
  },
  {
   "cell_type": "markdown",
   "metadata": {
    "solution": "hidden"
   },
   "source": [
    "<div class=\"alert alert-block alert-warning\">\n",
    " <b>How this works:</b>.\n",
    "<br/>\n",
    "Neuronal dynamics can be conceived as a <b>summation process</b> (sometimes also called ‘integration’ process) combined with a mechanism that triggers action potentials above some <b>critical voltage</b>. \n",
    "    \n",
    "For more details and derivation:  \n",
    "\n",
    "https://neuronaldynamics.epfl.ch/online/Ch1.S3.html\n",
    "\n",
    "</div>"
   ]
  },
  {
   "cell_type": "markdown",
   "metadata": {},
   "source": [
    "# Recap"
   ]
  },
  {
   "cell_type": "markdown",
   "metadata": {
    "deletable": false,
    "editable": false,
    "run_control": {
     "frozen": true
    }
   },
   "source": [
    "***\n",
    "<p style=\"color:orange;font-size:20px;\"> Before we begin, Checklist from Lab00 session </p>\n",
    "\n",
    "***\n",
    "\n",
    "- A *NeuronGroup* with \"any\" neuonal dynamics defined using a differential equation. \n",
    "- A *Synapse* used to connect two groups, could be two neuron groups or input stimuli\n",
    "- A *Monitor* to \"read\" output from a NeuronGroup\n",
    "- Plotting the output"
   ]
  },
  {
   "cell_type": "markdown",
   "metadata": {},
   "source": [
    "<p style=\"color:red;font-size:20px;\"> Have you already tried simulating <b> multiple runs</b>?</p>\n",
    "\n",
    "**IMPORTANT** Concepts\n",
    "- Store and Restore\n",
    "- Network object"
   ]
  },
  {
   "cell_type": "markdown",
   "metadata": {},
   "source": [
    "# LAB 01, Frequency-Input and Frequency-Frequency "
   ]
  },
  {
   "cell_type": "markdown",
   "metadata": {},
   "source": [
    "## Frequency-Input curve of an integrate-and-fire neuron."
   ]
  },
  {
   "cell_type": "markdown",
   "metadata": {},
   "source": [
    "***\n",
    "**Step 1:** Define an equation integrate-and-fire neuron (LIF) with an input parameter $V_{ext}$ (in $volt$), neuron time constant as $\\tau$ = 20 $ms$ and membrane voltage as $v$ (in $volt$)\n",
    "***"
   ]
  },
  {
   "cell_type": "code",
   "execution_count": 2,
   "metadata": {},
   "outputs": [],
   "source": [
    "## Add your code here\n",
    "tau = 10*ms\n",
    "eqs = \"\"\"\n",
    "dv/dt = (-v + Vext)/tau : volt\n",
    "\"\"\"\n"
   ]
  },
  {
   "cell_type": "markdown",
   "metadata": {
    "deletable": false,
    "editable": false,
    "run_control": {
     "frozen": true
    }
   },
   "source": [
    "***\n",
    "**Step 2:** Create a NeuronGroup with resting potential set to $0mV$, refractory period as $5ms$ and threshold for spiking is set to $15mV$\n",
    "\n",
    "***"
   ]
  },
  {
   "cell_type": "code",
   "execution_count": 3,
   "metadata": {},
   "outputs": [],
   "source": [
    "## Add your code here\n",
    "Vrst = 0 * volt\n",
    "Vth  = 0.15 * volt\n",
    "G = NeuronGroup(1, eqs, method='exact',reset='v = Vrst', refractory=5*ms, threshold='v > Vth')"
   ]
  },
  {
   "cell_type": "markdown",
   "metadata": {
    "deletable": false,
    "editable": false,
    "run_control": {
     "frozen": true
    }
   },
   "source": [
    "***\n",
    "<b> Step 3: </b> Study the effect of external input\n",
    "***\n",
    "    \n",
    "<b> Step 3A: </b> Induce input of amplitude with different values:  $14mV$, $15mV$, $16mV$ and $20mV$ (or more) and simulate for a duration of $500ms$  <br/>\n",
    "<b> Step 3B: </b>Use <b>StateMonitor</b> to obsever change in $v$ in addition to SpikeMonitor. <br/>\n",
    "<b> Step 3C: </b>Save plots for the values mentioned in Step 3A. Label the axes and set title of the plot as amplitute value.\n",
    "\n",
    "***"
   ]
  },
  {
   "cell_type": "code",
   "execution_count": 4,
   "metadata": {},
   "outputs": [
    {
     "name": "stderr",
     "output_type": "stream",
     "text": [
      "WARNING    Removing unsupported flag '-march=native' from compiler flags. [brian2.codegen.cpp_prefs]\n"
     ]
    },
    {
     "data": {
      "text/plain": "<Figure size 432x288 with 1 Axes>",
      "image/png": "[encoded data removed]"
     },
     "metadata": {
      "needs_background": "light"
     },
     "output_type": "display_data"
    }
   ],
   "source": [
    "## Add your code here\n",
    "\n",
    "start_scope()\n",
    "\n",
    "tau = 10 * ms\n",
    "Vext = 0.14 * volt\n",
    "Vrst = 0 * volt\n",
    "Vth  = 0.15 * volt\n",
    "\n",
    "\n",
    "eqs = \"\"\"\n",
    "dv/dt = (-v + Vext)/tau : volt\n",
    "\"\"\"\n",
    "\n",
    "G = NeuronGroup(1, eqs, method='exact',reset='v = Vrst', refractory=5*ms, threshold='v > Vth')\n",
    "M = StateMonitor(G, 'v', record=0)\n",
    "\n",
    "run(50*ms)\n",
    "\n",
    "plot(M.t/ms, M.v[0])\n",
    "xlabel('Time (ms)')\n",
    "ylabel('v');"
   ]
  },
  {
   "cell_type": "code",
   "execution_count": 5,
   "outputs": [
    {
     "data": {
      "text/plain": "<Figure size 432x288 with 1 Axes>",
      "image/png": "[encoded data removed]"
     },
     "metadata": {
      "needs_background": "light"
     },
     "output_type": "display_data"
    }
   ],
   "source": [
    "## Add your code here\n",
    "\n",
    "start_scope()\n",
    "\n",
    "tau = 10 * ms\n",
    "Vext = 0.15 * volt\n",
    "Vrst = 0 * volt\n",
    "Vth  = 0.15 * volt\n",
    "\n",
    "\n",
    "eqs = \"\"\"\n",
    "dv/dt = (-v + Vext)/tau : volt\n",
    "\"\"\"\n",
    "\n",
    "G = NeuronGroup(1, eqs, method='exact',reset='v = Vrst', refractory=5*ms, threshold='v > Vth')\n",
    "M = StateMonitor(G, 'v', record=0)\n",
    "\n",
    "run(50*ms)\n",
    "\n",
    "plot(M.t/ms, M.v[0])\n",
    "xlabel('Time (ms)')\n",
    "ylabel('v');"
   ],
   "metadata": {
    "collapsed": false,
    "pycharm": {
     "name": "#%%\n"
    }
   }
  },
  {
   "cell_type": "code",
   "execution_count": null,
   "outputs": [],
   "source": [
    "## Add your code here\n",
    "\n",
    "start_scope()\n",
    "\n",
    "tau = 10 * ms\n",
    "Vext = 0.16 * volt\n",
    "Vrst = 0 * volt\n",
    "Vth  = 0.15 * volt\n",
    "\n",
    "\n",
    "eqs = \"\"\"\n",
    "dv/dt = (-v + Vext)/tau : volt\n",
    "\"\"\"\n",
    "\n",
    "G = NeuronGroup(1, eqs, method='exact',reset='v = Vrst', refractory=5*ms, threshold='v > Vth')\n",
    "M = StateMonitor(G, 'v', record=0)\n",
    "\n",
    "run(50*ms)\n",
    "\n",
    "plot(M.t/ms, M.v[0])\n",
    "xlabel('Time (ms)')\n",
    "ylabel('v');"
   ],
   "metadata": {
    "collapsed": false,
    "pycharm": {
     "name": "#%%\n"
    }
   }
  },
  {
   "cell_type": "code",
   "execution_count": null,
   "outputs": [],
   "source": [
    "## Add your code here\n",
    "\n",
    "start_scope()\n",
    "\n",
    "tau = 10 * ms\n",
    "Vext = 0.20 * volt\n",
    "Vrst = 0 * volt\n",
    "Vth  = 0.15 * volt\n",
    "\n",
    "\n",
    "eqs = \"\"\"\n",
    "dv/dt = (-v + Vext)/tau : volt\n",
    "\"\"\"\n",
    "\n",
    "G = NeuronGroup(1, eqs, method='exact',reset='v = Vrst', refractory=5*ms, threshold='v > Vth')\n",
    "M = StateMonitor(G, 'v', record=0)\n",
    "\n",
    "run(50*ms)\n",
    "\n",
    "plot(M.t/ms, M.v[0])\n",
    "xlabel('Time (ms)')\n",
    "ylabel('v');"
   ],
   "metadata": {
    "collapsed": false,
    "pycharm": {
     "name": "#%%\n"
    }
   }
  },
  {
   "cell_type": "markdown",
   "metadata": {},
   "source": [
    "<div class=\"alert alert-block alert-success\">\n",
    "    \n",
    "<b>Answer the following as a Markdown cell</b>. \n",
    "- Explain the behaviour around $15mV$. Why does the behaviour vary for $14mV$ and $16mV$.\n",
    "- What value would you change to achieve similar behaviour at $20mV$ instead of $15mV$  \n",
    "</div>\n",
    "\n",
    "***\n",
    "**Add your explaination here**\n",
    "***\n",
    "\n",
    "<div class=\"alert alert-block alert-info\">\n",
    "    In my opinion, the neuron fires and thus reset if it's potential reaches 15 mV. If we solve the equation of the leaky integrate and fire neuron we will see that v has an exponential curve with $\\lim_{t \\rightarrow \\infty} v(t) = V_{ext}$. So if $V_{ext} = 14mV$ or $V_{ext} = 15mV$, the potential will not cross the threshold $V_{th} = 15mV$ in a realistic time.\n",
    "</div>\n",
    "\n",
    "<div class=\"alert alert-block alert-info\">\n",
    "    For $V_{ext} = 16mV$, we see that the potential overcomes the threshold once and thus reset. $V_{ext} = 20mV$, it reaches the threshold multiple times.\n",
    "</div>\n",
    "\n",
    "<div class=\"alert alert-block alert-info\">\n",
    "    To get the same behaviour at $20mV$ instead of $15mV$, we should increase the threshold to a value $V_{th} >= 20mV$\n",
    "\n",
    "</div>"
   ]
  },
  {
   "cell_type": "markdown",
   "metadata": {
    "deletable": false,
    "editable": false,
    "run_control": {
     "frozen": true
    }
   },
   "source": [
    "***\n",
    "<b> Step 4: </b> Plot the <b>Frequency-Input</b> curve with input ranging from $0$ ~ $30 mV$? Feel free to pick the step size. Simulation duration = 1 second  <br/><br/> \n",
    "    <b>Option 1: </b> Create a NeuronGroup with N (neuron count) ~ different values of input and run <i> a single </i> simulation. <br/>\n",
    "    <b>Option 2: </b> Encapsulate all components in a <b>Network</b> object. Use store and restore technique\n",
    "<br/>\n",
    "<br/>\n",
    "    <b>Note:</b> Time the two methods and see if the two gives same results or not. \n",
    "***"
   ]
  },
  {
   "cell_type": "markdown",
   "metadata": {
    "deletable": false,
    "editable": false,
    "run_control": {
     "frozen": true
    }
   },
   "source": [
    "<p style=\"color:red;font-size:20px;\"> \n",
    "Fill the code lines where you see a #hash. Or use your own style.\n",
    "<br/><br/>\n",
    "During the class, please only do one of the two option and move to section 3.2 \n",
    " </p>"
   ]
  },
  {
   "cell_type": "markdown",
   "metadata": {
    "heading_collapsed": true
   },
   "source": [
    "### TODO: Plot the Frequency-Input curve, multiple runs of 1 neuron"
   ]
  },
  {
   "cell_type": "code",
   "execution_count": 19,
   "metadata": {
    "hidden": true
   },
   "outputs": [
    {
     "name": "stdout",
     "output_type": "stream",
     "text": [
      "0. V : 0\n",
      "1. mV : 0\n",
      "2. mV : 0\n",
      "3. mV : 0\n",
      "4. mV : 0\n",
      "5. mV : 0\n",
      "6. mV : 0\n",
      "7. mV : 0\n",
      "8. mV : 0\n",
      "9. mV : 0\n",
      "10. mV : 0\n",
      "11. mV : 0\n",
      "12. mV : 0\n",
      "13. mV : 0\n",
      "14. mV : 0\n",
      "15. mV : 0\n",
      "16. mV : 18\n",
      "17. mV : 23\n",
      "18. mV : 27\n",
      "19. mV : 32\n",
      "20. mV : 35\n",
      "21. mV : 39\n",
      "22. mV : 43\n",
      "23. mV : 47\n",
      "24. mV : 50\n",
      "25. mV : 54\n",
      "26. mV : 57\n",
      "27. mV : 61\n",
      "28. mV : 64\n",
      "29. mV : 68\n"
     ]
    },
    {
     "data": {
      "text/plain": "<Figure size 432x288 with 1 Axes>",
      "image/png": "[encoded data removed]"
     },
     "metadata": {
      "needs_background": "light"
     },
     "output_type": "display_data"
    }
   ],
   "source": [
    "start_scope()\n",
    "\n",
    "duration = 1*second # set time duration\n",
    "\n",
    "tau = 20*ms\n",
    "step = 1 # set step size, MY NOTE: no need of unit because it's used below as an int\n",
    "Vrst = 0 * volt\n",
    "Vth  = 15 * mV\n",
    "\n",
    "#Iext_range = np.arange(0, 30, step)*mV\n",
    "# WARNING: Guess there's a mistake Iext should be Vext\n",
    "Vext_range = np.arange(0, 30, step)*mV\n",
    "Vext = Vext_range[-1]\n",
    "\n",
    "firing_rates = []\n",
    "eqs = \"\"\"\n",
    "dv/dt = (-v + Vext)/tau : volt\n",
    "\"\"\"\n",
    "# DEFINE NEURON GROUP\n",
    "G = NeuronGroup(1, eqs, method='exact',reset='v = Vrst', refractory=5*ms, threshold='v > Vth')\n",
    "\n",
    "# DEFINE MONITOR\n",
    "state_M = StateMonitor(G, 'v', record=0)\n",
    "spike_M = SpikeMonitor(G)\n",
    "\n",
    "# CREATE NETWORK\n",
    "\n",
    "# STORE the current state of the network\n",
    "store()\n",
    "\n",
    "#for Iext in Iext_range:\n",
    "# WARNING: Same\n",
    "for Vext in Vext_range:\n",
    "    # RESTORE\n",
    "    restore()\n",
    "    # SIMULATE\n",
    "    run(duration)\n",
    "    #SAVE DATA for current run\n",
    "    print(f\"{Vext} : {spike_M.num_spikes}\")\n",
    "    firing_rates.append(spike_M.num_spikes/second)\n",
    "    xlabel('Time (ms)')\n",
    "    ylabel('v');\n",
    "\n",
    "# PLOT\n",
    "plot(Vext_range/mV, firing_rates)\n",
    "xlabel(r'$V_{ext}$ (mV)')\n",
    "ylabel('Firing rate (Hz)')\n",
    "show()\n"
   ]
  },
  {
   "cell_type": "code",
   "execution_count": 21,
   "outputs": [
    {
     "name": "stdout",
     "output_type": "stream",
     "text": [
      "0. V : 0\n",
      "1. mV : 0\n",
      "2. mV : 0\n",
      "3. mV : 0\n",
      "4. mV : 0\n",
      "5. mV : 0\n",
      "6. mV : 0\n",
      "7. mV : 0\n",
      "8. mV : 0\n",
      "9. mV : 0\n",
      "10. mV : 0\n",
      "11. mV : 0\n",
      "12. mV : 0\n",
      "13. mV : 0\n",
      "14. mV : 0\n",
      "15. mV : 0\n",
      "16. mV : 18\n",
      "17. mV : 23\n",
      "18. mV : 27\n",
      "19. mV : 32\n",
      "20. mV : 35\n",
      "21. mV : 39\n",
      "22. mV : 40\n",
      "23. mV : 40\n",
      "24. mV : 40\n",
      "25. mV : 40\n",
      "26. mV : 40\n",
      "27. mV : 40\n",
      "28. mV : 40\n",
      "29. mV : 40\n"
     ]
    },
    {
     "data": {
      "text/plain": "<Figure size 432x288 with 1 Axes>",
      "image/png": "[encoded data removed]"
     },
     "metadata": {
      "needs_background": "light"
     },
     "output_type": "display_data"
    }
   ],
   "source": [
    "start_scope()\n",
    "\n",
    "duration = 1*second # set time duration\n",
    "\n",
    "tau = 20*ms\n",
    "step = 1 # set step size, MY NOTE: no need of unit because it's used below as an int\n",
    "Vrst = 0 * volt\n",
    "Vth  = 15 * mV\n",
    "\n",
    "#Iext_range = np.arange(0, 30, step)*mV\n",
    "# WARNING: Guess there's a mistake Iext should be Vext\n",
    "Vext_range = np.arange(0, 30, step)*mV\n",
    "Vext = Vext_range[-1]\n",
    "\n",
    "firing_rates = []\n",
    "eqs = \"\"\"\n",
    "dv/dt = (-v + Vext)/tau : volt\n",
    "\"\"\"\n",
    "# DEFINE NEURON GROUP\n",
    "G = NeuronGroup(1, eqs, method='exact',reset='v = Vrst', refractory=25*ms, threshold='v > Vth')\n",
    "\n",
    "# DEFINE MONITOR\n",
    "state_M = StateMonitor(G, 'v', record=0)\n",
    "spike_M = SpikeMonitor(G)\n",
    "\n",
    "# CREATE NETWORK\n",
    "\n",
    "# STORE the current state of the network\n",
    "store()\n",
    "\n",
    "#for Iext in Iext_range:\n",
    "# WARNING: Same\n",
    "for Vext in Vext_range:\n",
    "    # RESTORE\n",
    "    restore()\n",
    "    # SIMULATE\n",
    "    run(duration)\n",
    "    #SAVE DATA for current run\n",
    "    print(f\"{Vext} : {spike_M.num_spikes}\")\n",
    "    firing_rates.append(spike_M.num_spikes/second)\n",
    "    xlabel('Time (ms)')\n",
    "    ylabel('v');\n",
    "\n",
    "# PLOT\n",
    "plot(Vext_range/mV, firing_rates)\n",
    "xlabel(r'$V_{ext}$ (mV)')\n",
    "ylabel('Firing rate (Hz)')\n",
    "show()\n"
   ],
   "metadata": {
    "collapsed": false,
    "pycharm": {
     "name": "#%%\n"
    }
   }
  },
  {
   "cell_type": "markdown",
   "metadata": {
    "deletable": false,
    "editable": false,
    "heading_collapsed": true,
    "run_control": {
     "frozen": true
    }
   },
   "source": [
    "### TODO: Plot the Frequency-Input curve, 1 run of multiple neurons"
   ]
  },
  {
   "cell_type": "code",
   "execution_count": 29,
   "metadata": {
    "hidden": true
   },
   "outputs": [
    {
     "name": "stdout",
     "output_type": "stream",
     "text": [
      "211\n",
      "<spikemonitor_1.count: array([ 0,  0,  0,  0,  0, 18, 32, 43, 54, 64], dtype=int32)>\n"
     ]
    },
    {
     "data": {
      "text/plain": "<Figure size 432x288 with 1 Axes>",
      "image/png": "[encoded data removed]"
     },
     "metadata": {
      "needs_background": "light"
     },
     "output_type": "display_data"
    }
   ],
   "source": [
    "start_scope()\n",
    "\n",
    "duration = 1*second # set time duration\n",
    "tau = 20*ms\n",
    "step = 3 # set step size\n",
    "Vrst = 0 * volt\n",
    "Vth  = 15 * mV\n",
    "\n",
    "Vext_range = np.arange(1, 30, step)*mV\n",
    "\n",
    "firing_rates = []\n",
    "\n",
    "# MY NOTE: Now Vext is a variable depending on the neuron, so we have\n",
    "# to define it's dimension in the equation\n",
    "eqs = \"\"\"\n",
    "dv/dt = (-v + Vext)/tau : volt\n",
    "Vext : volt\n",
    "\"\"\"\n",
    "\n",
    "# DEFINE NEURON GROUP\n",
    "# MY NOTE: As we want to simulate multiple neurons which all have\n",
    "# their own Vext, we define the same number of neurons as the number\n",
    "# of Vext in Vext_range that we want to simulate\n",
    "nb_Vext = len(Vext_range)\n",
    "nb_neurons = nb_Vext\n",
    "\n",
    "# MY NOTE: Now Vext is a variable depending on the neuron, so we have\n",
    "# to define the values it takes for each neuron with `G.Vext`\n",
    "G = NeuronGroup(nb_neurons, eqs, method='exact',reset='v = Vrst', refractory=5*ms, threshold='v > Vth')\n",
    "G.Vext = Vext_range\n",
    "\n",
    "# DEFINE MONITOR\n",
    "state_M = StateMonitor(G, 'v', record=0)\n",
    "spike_M = SpikeMonitor(G)\n",
    "\n",
    "# CREATE NETWORK\n",
    "\n",
    "# SIMULATE\n",
    "run(duration)\n",
    "\n",
    "#SAVE DATA for current run\n",
    "print(f\"{spike_M.num_spikes}\")\n",
    "print(f\"{spike_M.count}\")\n",
    "\n",
    "firing_rates = spike_M.count/second # firing rate is count/duration\n",
    "\n",
    "# PLOT\n",
    "plot(Vext_range/ms, firing_rates)\n",
    "xlabel(r'$V_{ext}$ (mV)')\n",
    "ylabel('Firing rate (Hz)');"
   ]
  },
  {
   "cell_type": "code",
   "execution_count": 28,
   "outputs": [
    {
     "data": {
      "text/plain": "<Figure size 432x288 with 1 Axes>",
      "image/png": "[encoded data removed]"
     },
     "metadata": {
      "needs_background": "light"
     },
     "output_type": "display_data"
    }
   ],
   "source": [
    "start_scope()\n",
    "\n",
    "duration = 1*second # set time duration\n",
    "tau = 20*ms\n",
    "step = 3 # set step size\n",
    "Vrst = 0 * volt\n",
    "Vth  = 15 * mV\n",
    "\n",
    "Vext_range = np.arange(1, 30, step)*mV\n",
    "refractory_range = [0,5,10,25,50]*ms\n",
    "\n",
    "firing_rates_global = []\n",
    "\n",
    "# MY NOTE: Now Vext is a variable depending on the neuron, so we have\n",
    "# to define it's dimension in the equation\n",
    "eqs = \"\"\"\n",
    "dv/dt = (-v + Vext)/tau : volt\n",
    "Vext : volt\n",
    "\"\"\"\n",
    "\n",
    "# DEFINE NEURON GROUP\n",
    "# MY NOTE: As we want to simulate multiple neurons which all have\n",
    "# their own Vext, we define the same number of neurons as the number\n",
    "# of Vext in Vext_range that we want to simulate\n",
    "nb_Vext = len(Vext_range)\n",
    "nb_neurons = nb_Vext\n",
    "\n",
    "# MY NOTE: Now Vext is a variable depending on the neuron, so we have\n",
    "# to define the values it takes for each neuron with `G.Vext`\n",
    "G = NeuronGroup(nb_neurons, eqs, method='exact',reset='v = Vrst', refractory='refractory', threshold='v > Vth')\n",
    "G.Vext = Vext_range\n",
    "\n",
    "# DEFINE MONITOR\n",
    "state_M = StateMonitor(G, 'v', record=0)\n",
    "spike_M = SpikeMonitor(G)\n",
    "\n",
    "# CREATE NETWORK\n",
    "\n",
    "# Store the current state of the network\n",
    "store()\n",
    "\n",
    "for refractory in refractory_range:\n",
    "    firing_rates = []\n",
    "    # Restore the original state of the network\n",
    "    restore()\n",
    "    # Run it with the new value of tau\n",
    "    run(1*second)\n",
    "    firing_rates = spike_M.count/second\n",
    "    plot(Vext_range/ms, firing_rates)\n",
    "\n",
    "\n",
    "# PLOT\n",
    "xlabel(r'$V_{ext}$ (mV)')\n",
    "ylabel('Firing rate (Hz)');"
   ],
   "metadata": {
    "collapsed": false,
    "pycharm": {
     "name": "#%%\n"
    }
   }
  },
  {
   "cell_type": "markdown",
   "source": [
    "I think that the WARNING is due to the fact that we defined a variable Vext in a previous cell."
   ],
   "metadata": {
    "collapsed": false,
    "pycharm": {
     "name": "#%% md\n"
    }
   }
  },
  {
   "cell_type": "markdown",
   "metadata": {
    "hidden": true
   },
   "source": [
    "<div class=\"alert alert-block alert-success\">\n",
    "\n",
    "<b>Answer the following as a Markdown cell</b>. \n",
    "- Saturation, shape of the curve\n",
    "- Change refactory period and redo the simulation\n",
    "</div>\n",
    "\n",
    "***\n",
    "**Add your explaination here**\n",
    "***\n",
    "\n",
    "<div class=\"alert alert-block alert-info\">\n",
    "\n",
    "    In my opinion, the curve is increasing with the amplitude of the input. This is explained by the dynamic of the voltage. As tau represents the time for the neuron to get to approximately 63% of the input amplitude. Tau being fixed (at $20 ms$), the time for the neuron to cross the threshold decreases with the increase of the amplitude.\n",
    "</div>\n",
    "\n",
    "<div class=\"alert alert-block alert-info\">\n",
    "\n",
    "    We see a saturation of the curve with the increase of the refractory period. When the refractory period is small the dynamic is given by the input amplitude. But when the refractory period increases, the dynamic of the neuron changes. Because even if the membrane potential increases and crosses the threshold before the end of the neuron's refractory period ends, no spike will be generated. The membrane potential will just continue increasing. (cf. 1-intro-to-brian-neurons.ipynb cell \"In [44]\"). Thus the neuron has a maximum frequency of $\\frac{1}{t_{refractory}}$\n",
    "</div>"
   ]
  },
  {
   "cell_type": "markdown",
   "metadata": {
    "deletable": false,
    "editable": false,
    "run_control": {
     "frozen": true
    }
   },
   "source": [
    "## Frequency-Frequency curve of an integrate-and-fire neuron.\n",
    "\n",
    "***\n",
    "**Key points**\n",
    "***\n",
    "<div class=\"alert alert-block alert-warning\">\n",
    "\n",
    "<b>[1]</b> In the next step, we will monitor the <b>Frequency-Frequency curve</b> of the neuron. A Frequency-Frequency curve illustrate relation between firing rate of a neuron <b>w.r.t</b> the frequency of input spikes received by the neuron via the synapse. \n",
    "  \n",
    "<b>[2]</b> Main difference from previous section is: Here we will use a <b>spike generator</b> to generate input spikes as the stimuli which are sent through the synapse to the neuron.\n",
    "\n",
    "<b>[3]</b> In this case, the Network consist of following elements: a spike generator, a neuron, and a synapse connecting these two.\n",
    "</div>"
   ]
  },
  {
   "cell_type": "markdown",
   "metadata": {
    "deletable": false,
    "editable": false,
    "run_control": {
     "frozen": true
    },
    "solution": "hidden"
   },
   "source": [
    "***\n",
    "<b> Step 1:  </b> Define a spike generator and generate spikes such that it produces 100 spikes during 1 second with a constant inter-spike interval (ISI). This will give us an input stimuli of 100 Hz.\n",
    "    \n",
    "<i>Remark:</i> In practice, we usually use Poisson distributed spikes to mimic the noisy biological spikes. Feel free to create your own \"Poisson-Spike generator\"\n",
    "***\n"
   ]
  },
  {
   "cell_type": "code",
   "execution_count": 30,
   "metadata": {},
   "outputs": [],
   "source": [
    "# Add your code here\n",
    "indices = [0]*100\n",
    "times = numpy.arange(1,1001,10)*ms\n",
    "input_G = SpikeGeneratorGroup(1, indices, times)\n",
    "input_spike_M = SpikeMonitor(input_G)"
   ]
  },
  {
   "cell_type": "markdown",
   "metadata": {
    "deletable": false,
    "editable": false,
    "run_control": {
     "frozen": true
    }
   },
   "source": [
    "***\n",
    "<b> Step 2:  </b> Create a NeuronGroup with resting potential set to $0mV$, refractory period as $5ms$ and threshold for spiking is set to $15mV$\n",
    "***"
   ]
  },
  {
   "cell_type": "code",
   "execution_count": 31,
   "metadata": {},
   "outputs": [],
   "source": [
    "# Add your code here\n",
    "duration = 1*second # set time duration\n",
    "tau = 20*ms\n",
    "Vext = 20 * mV\n",
    "Vrst = 0 * volt\n",
    "Vth  = 15 * mV\n",
    "refractory = 5 * ms\n",
    "\n",
    "eqs = \"\"\"\n",
    "dv/dt = (-v + Vext)/tau : volt\n",
    "\"\"\"\n",
    "G = NeuronGroup(1, eqs, method='exact',reset='v = Vrst', refractory='refractory', threshold='v > Vth')\n",
    "\n",
    "spike_M = SpikeMonitor(G)"
   ]
  },
  {
   "cell_type": "markdown",
   "metadata": {},
   "source": [
    "***\n",
    "<b> Step 3A:  </b> Create a Synapse with $w$ as a weight and $delay$ as transmission delays of the synapse. <br/>\n",
    "    <b> Step 3B:  </b> Make a one-to-one connection among NeuronGroup and SpikeGeneratorGroup.\n",
    "    <p style='color:red'> <b>IMPORTANT!! <br/><br/>\n",
    "        Don't forget to add weight parameter where you must </b>  \n",
    "</p> \n",
    "\n",
    "***"
   ]
  },
  {
   "cell_type": "code",
   "execution_count": 32,
   "metadata": {},
   "outputs": [
    {
     "ename": "DimensionMismatchError",
     "evalue": "The right-hand-side of code statement \"w = 0.2\" does not have the expected unit m^2 kg s^-3 A^-1 (unit is 1).",
     "output_type": "error",
     "traceback": [
      "\u001B[0;31m---------------------------------------------------------------------------\u001B[0m",
      "\u001B[0;31mDimensionMismatchError\u001B[0m                    Traceback (most recent call last)",
      "Input \u001B[0;32mIn [32]\u001B[0m, in \u001B[0;36m<cell line: 4>\u001B[0;34m()\u001B[0m\n\u001B[1;32m      2\u001B[0m S \u001B[38;5;241m=\u001B[39m Synapses(input_G, G, \u001B[38;5;124m'\u001B[39m\u001B[38;5;124mw : volt\u001B[39m\u001B[38;5;124m'\u001B[39m, on_pre\u001B[38;5;241m=\u001B[39m\u001B[38;5;124m'\u001B[39m\u001B[38;5;124mv_post += w\u001B[39m\u001B[38;5;124m'\u001B[39m)\n\u001B[1;32m      3\u001B[0m S\u001B[38;5;241m.\u001B[39mconnect(j\u001B[38;5;241m=\u001B[39m\u001B[38;5;124m'\u001B[39m\u001B[38;5;124mi\u001B[39m\u001B[38;5;124m'\u001B[39m)\n\u001B[0;32m----> 4\u001B[0m S\u001B[38;5;241m.\u001B[39mw \u001B[38;5;241m=\u001B[39m \u001B[38;5;124m'\u001B[39m\u001B[38;5;124m0.2\u001B[39m\u001B[38;5;124m'\u001B[39m\n\u001B[1;32m      5\u001B[0m S\u001B[38;5;241m.\u001B[39mdelay \u001B[38;5;241m=\u001B[39m \u001B[38;5;124m'\u001B[39m\u001B[38;5;124m2*ms\u001B[39m\u001B[38;5;124m'\u001B[39m\n",
      "File \u001B[0;32m~/Desktop/MA2/NI/Python/venv/lib/python3.10/site-packages/brian2/groups/group.py:420\u001B[0m, in \u001B[0;36mVariableOwner.__setattr__\u001B[0;34m(self, name, val, level)\u001B[0m\n\u001B[1;32m    418\u001B[0m         \u001B[38;5;28;01mraise\u001B[39;00m \u001B[38;5;167;01mTypeError\u001B[39;00m(\u001B[38;5;124mf\u001B[39m\u001B[38;5;124m'\u001B[39m\u001B[38;5;124mVariable \u001B[39m\u001B[38;5;132;01m{\u001B[39;00mname\u001B[38;5;132;01m}\u001B[39;00m\u001B[38;5;124m is read-only.\u001B[39m\u001B[38;5;124m'\u001B[39m)\n\u001B[1;32m    419\u001B[0m     \u001B[38;5;66;03m# Make the call X.var = ... equivalent to X.var[:] = ...\u001B[39;00m\n\u001B[0;32m--> 420\u001B[0m     \u001B[43mvar\u001B[49m\u001B[38;5;241;43m.\u001B[39;49m\u001B[43mget_addressable_value_with_unit\u001B[49m\u001B[43m(\u001B[49m\u001B[43mname\u001B[49m\u001B[43m,\u001B[49m\u001B[43m \u001B[49m\u001B[38;5;28;43mself\u001B[39;49m\u001B[43m)\u001B[49m\u001B[38;5;241;43m.\u001B[39;49m\u001B[43mset_item\u001B[49m\u001B[43m(\u001B[49m\u001B[38;5;28;43mslice\u001B[39;49m\u001B[43m(\u001B[49m\u001B[38;5;28;43;01mNone\u001B[39;49;00m\u001B[43m)\u001B[49m\u001B[43m,\u001B[49m\n\u001B[1;32m    421\u001B[0m \u001B[43m                                                             \u001B[49m\u001B[43mval\u001B[49m\u001B[43m,\u001B[49m\n\u001B[1;32m    422\u001B[0m \u001B[43m                                                             \u001B[49m\u001B[43mlevel\u001B[49m\u001B[38;5;241;43m=\u001B[39;49m\u001B[43mlevel\u001B[49m\u001B[38;5;241;43m+\u001B[39;49m\u001B[38;5;241;43m1\u001B[39;49m\u001B[43m)\u001B[49m\n\u001B[1;32m    423\u001B[0m \u001B[38;5;28;01melif\u001B[39;00m \u001B[38;5;28mlen\u001B[39m(name) \u001B[38;5;129;01mand\u001B[39;00m name[\u001B[38;5;241m-\u001B[39m\u001B[38;5;241m1\u001B[39m]\u001B[38;5;241m==\u001B[39m\u001B[38;5;124m'\u001B[39m\u001B[38;5;124m_\u001B[39m\u001B[38;5;124m'\u001B[39m \u001B[38;5;129;01mand\u001B[39;00m name[:\u001B[38;5;241m-\u001B[39m\u001B[38;5;241m1\u001B[39m] \u001B[38;5;129;01min\u001B[39;00m \u001B[38;5;28mself\u001B[39m\u001B[38;5;241m.\u001B[39mvariables:\n\u001B[1;32m    424\u001B[0m     \u001B[38;5;66;03m# no unit checking\u001B[39;00m\n\u001B[1;32m    425\u001B[0m     var \u001B[38;5;241m=\u001B[39m \u001B[38;5;28mself\u001B[39m\u001B[38;5;241m.\u001B[39mvariables[name[:\u001B[38;5;241m-\u001B[39m\u001B[38;5;241m1\u001B[39m]]\n",
      "File \u001B[0;32m~/Desktop/MA2/NI/Python/venv/lib/python3.10/site-packages/brian2/core/variables.py:874\u001B[0m, in \u001B[0;36mVariableView.set_item\u001B[0;34m(self, item, value, level, namespace)\u001B[0m\n\u001B[1;32m    871\u001B[0m \u001B[38;5;66;03m# Both index and values are strings, use a single code object do deal\u001B[39;00m\n\u001B[1;32m    872\u001B[0m \u001B[38;5;66;03m# with this situation\u001B[39;00m\n\u001B[1;32m    873\u001B[0m \u001B[38;5;28;01mif\u001B[39;00m \u001B[38;5;28misinstance\u001B[39m(value, \u001B[38;5;28mstr\u001B[39m) \u001B[38;5;129;01mand\u001B[39;00m \u001B[38;5;28misinstance\u001B[39m(item, \u001B[38;5;28mstr\u001B[39m):\n\u001B[0;32m--> 874\u001B[0m     \u001B[38;5;28;43mself\u001B[39;49m\u001B[38;5;241;43m.\u001B[39;49m\u001B[43mset_with_expression_conditional\u001B[49m\u001B[43m(\u001B[49m\u001B[43mitem\u001B[49m\u001B[43m,\u001B[49m\u001B[43m \u001B[49m\u001B[43mvalue\u001B[49m\u001B[43m,\u001B[49m\n\u001B[1;32m    875\u001B[0m \u001B[43m                                         \u001B[49m\u001B[43mcheck_units\u001B[49m\u001B[38;5;241;43m=\u001B[39;49m\u001B[43mcheck_units\u001B[49m\u001B[43m,\u001B[49m\n\u001B[1;32m    876\u001B[0m \u001B[43m                                         \u001B[49m\u001B[43mrun_namespace\u001B[49m\u001B[38;5;241;43m=\u001B[39;49m\u001B[43mnamespace\u001B[49m\u001B[43m)\u001B[49m\n\u001B[1;32m    877\u001B[0m \u001B[38;5;28;01melif\u001B[39;00m \u001B[38;5;28misinstance\u001B[39m(item, \u001B[38;5;28mstr\u001B[39m):\n\u001B[1;32m    878\u001B[0m     \u001B[38;5;28;01mtry\u001B[39;00m:\n",
      "File \u001B[0;32m~/Desktop/MA2/NI/Python/venv/lib/python3.10/site-packages/brian2/core/base.py:293\u001B[0m, in \u001B[0;36mdevice_override.<locals>.device_override_decorator.<locals>.device_override_decorated_function\u001B[0;34m(*args, **kwds)\u001B[0m\n\u001B[1;32m    291\u001B[0m     \u001B[38;5;28;01mreturn\u001B[39;00m \u001B[38;5;28mgetattr\u001B[39m(curdev, name)(\u001B[38;5;241m*\u001B[39margs, \u001B[38;5;241m*\u001B[39m\u001B[38;5;241m*\u001B[39mkwds)\n\u001B[1;32m    292\u001B[0m \u001B[38;5;28;01melse\u001B[39;00m:\n\u001B[0;32m--> 293\u001B[0m     \u001B[38;5;28;01mreturn\u001B[39;00m \u001B[43mfunc\u001B[49m\u001B[43m(\u001B[49m\u001B[38;5;241;43m*\u001B[39;49m\u001B[43margs\u001B[49m\u001B[43m,\u001B[49m\u001B[43m \u001B[49m\u001B[38;5;241;43m*\u001B[39;49m\u001B[38;5;241;43m*\u001B[39;49m\u001B[43mkwds\u001B[49m\u001B[43m)\u001B[49m\n",
      "File \u001B[0;32m~/Desktop/MA2/NI/Python/venv/lib/python3.10/site-packages/brian2/core/variables.py:1028\u001B[0m, in \u001B[0;36mVariableView.set_with_expression_conditional\u001B[0;34m(self, cond, code, run_namespace, check_units)\u001B[0m\n\u001B[1;32m   1026\u001B[0m \u001B[38;5;28;01mfrom\u001B[39;00m \u001B[38;5;21;01mbrian2\u001B[39;00m\u001B[38;5;21;01m.\u001B[39;00m\u001B[38;5;21;01mdevices\u001B[39;00m\u001B[38;5;21;01m.\u001B[39;00m\u001B[38;5;21;01mdevice\u001B[39;00m \u001B[38;5;28;01mimport\u001B[39;00m get_device\n\u001B[1;32m   1027\u001B[0m device \u001B[38;5;241m=\u001B[39m get_device()\n\u001B[0;32m-> 1028\u001B[0m codeobj \u001B[38;5;241m=\u001B[39m \u001B[43mcreate_runner_codeobj\u001B[49m\u001B[43m(\u001B[49m\u001B[38;5;28;43mself\u001B[39;49m\u001B[38;5;241;43m.\u001B[39;49m\u001B[43mgroup\u001B[49m\u001B[43m,\u001B[49m\n\u001B[1;32m   1029\u001B[0m \u001B[43m                                \u001B[49m\u001B[43m{\u001B[49m\u001B[38;5;124;43m'\u001B[39;49m\u001B[38;5;124;43mcondition\u001B[39;49m\u001B[38;5;124;43m'\u001B[39;49m\u001B[43m:\u001B[49m\u001B[43m \u001B[49m\u001B[43mabstract_code_cond\u001B[49m\u001B[43m,\u001B[49m\n\u001B[1;32m   1030\u001B[0m \u001B[43m                                 \u001B[49m\u001B[38;5;124;43m'\u001B[39;49m\u001B[38;5;124;43mstatement\u001B[39;49m\u001B[38;5;124;43m'\u001B[39;49m\u001B[43m:\u001B[49m\u001B[43m \u001B[49m\u001B[43mabstract_code\u001B[49m\u001B[43m}\u001B[49m\u001B[43m,\u001B[49m\n\u001B[1;32m   1031\u001B[0m \u001B[43m                                \u001B[49m\u001B[38;5;124;43m'\u001B[39;49m\u001B[38;5;124;43mgroup_variable_set_conditional\u001B[39;49m\u001B[38;5;124;43m'\u001B[39;49m\u001B[43m,\u001B[49m\n\u001B[1;32m   1032\u001B[0m \u001B[43m                                \u001B[49m\u001B[43madditional_variables\u001B[49m\u001B[38;5;241;43m=\u001B[39;49m\u001B[43mvariables\u001B[49m\u001B[43m,\u001B[49m\n\u001B[1;32m   1033\u001B[0m \u001B[43m                                \u001B[49m\u001B[43mcheck_units\u001B[49m\u001B[38;5;241;43m=\u001B[39;49m\u001B[43mcheck_units\u001B[49m\u001B[43m,\u001B[49m\n\u001B[1;32m   1034\u001B[0m \u001B[43m                                \u001B[49m\u001B[43mrun_namespace\u001B[49m\u001B[38;5;241;43m=\u001B[39;49m\u001B[43mrun_namespace\u001B[49m\u001B[43m,\u001B[49m\n\u001B[1;32m   1035\u001B[0m \u001B[43m                                \u001B[49m\u001B[43mcodeobj_class\u001B[49m\u001B[38;5;241;43m=\u001B[39;49m\u001B[43mdevice\u001B[49m\u001B[38;5;241;43m.\u001B[39;49m\u001B[43mcode_object_class\u001B[49m\u001B[43m(\u001B[49m\u001B[43mfallback_pref\u001B[49m\u001B[38;5;241;43m=\u001B[39;49m\u001B[38;5;124;43m'\u001B[39;49m\u001B[38;5;124;43mcodegen.string_expression_target\u001B[39;49m\u001B[38;5;124;43m'\u001B[39;49m\u001B[43m)\u001B[49m\u001B[43m)\u001B[49m\n\u001B[1;32m   1036\u001B[0m codeobj()\n",
      "File \u001B[0;32m~/Desktop/MA2/NI/Python/venv/lib/python3.10/site-packages/brian2/codegen/codeobject.py:390\u001B[0m, in \u001B[0;36mcreate_runner_codeobj\u001B[0;34m(group, code, template_name, run_namespace, user_code, variable_indices, name, check_units, needed_variables, additional_variables, template_kwds, override_conditional_write, codeobj_class)\u001B[0m\n\u001B[1;32m    387\u001B[0m \u001B[38;5;28;01mfor\u001B[39;00m c \u001B[38;5;129;01min\u001B[39;00m code\u001B[38;5;241m.\u001B[39mvalues():\n\u001B[1;32m    388\u001B[0m     \u001B[38;5;66;03m# This is the first time that the code is parsed, catch errors\u001B[39;00m\n\u001B[1;32m    389\u001B[0m     \u001B[38;5;28;01mtry\u001B[39;00m:\n\u001B[0;32m--> 390\u001B[0m         \u001B[43mcheck_units_statements\u001B[49m\u001B[43m(\u001B[49m\u001B[43mc\u001B[49m\u001B[43m,\u001B[49m\u001B[43m \u001B[49m\u001B[43mvariables\u001B[49m\u001B[43m)\u001B[49m\n\u001B[1;32m    391\u001B[0m     \u001B[38;5;28;01mexcept\u001B[39;00m (\u001B[38;5;167;01mSyntaxError\u001B[39;00m, \u001B[38;5;167;01mValueError\u001B[39;00m) \u001B[38;5;28;01mas\u001B[39;00m ex:\n\u001B[1;32m    392\u001B[0m         error_msg \u001B[38;5;241m=\u001B[39m _error_msg(c, name)\n",
      "File \u001B[0;32m~/Desktop/MA2/NI/Python/venv/lib/python3.10/site-packages/brian2/equations/unitcheck.py:98\u001B[0m, in \u001B[0;36mcheck_units_statements\u001B[0;34m(code, variables)\u001B[0m\n\u001B[1;32m     96\u001B[0m \u001B[38;5;28;01mif\u001B[39;00m varname \u001B[38;5;129;01min\u001B[39;00m variables:\n\u001B[1;32m     97\u001B[0m     expected_unit \u001B[38;5;241m=\u001B[39m variables[varname]\u001B[38;5;241m.\u001B[39mdim\n\u001B[0;32m---> 98\u001B[0m     \u001B[43mfail_for_dimension_mismatch\u001B[49m\u001B[43m(\u001B[49m\u001B[43mexpr_unit\u001B[49m\u001B[43m,\u001B[49m\u001B[43m \u001B[49m\u001B[43mexpected_unit\u001B[49m\u001B[43m,\u001B[49m\n\u001B[1;32m     99\u001B[0m \u001B[43m                                \u001B[49m\u001B[43m(\u001B[49m\u001B[38;5;124;43m'\u001B[39;49m\u001B[38;5;124;43mThe right-hand-side of code \u001B[39;49m\u001B[38;5;124;43m'\u001B[39;49m\n\u001B[1;32m    100\u001B[0m \u001B[43m                                 \u001B[49m\u001B[38;5;124;43m'\u001B[39;49m\u001B[38;5;124;43mstatement \u001B[39;49m\u001B[38;5;124;43m\"\u001B[39;49m\u001B[38;5;132;43;01m%s\u001B[39;49;00m\u001B[38;5;124;43m\"\u001B[39;49m\u001B[38;5;124;43m does not have the \u001B[39;49m\u001B[38;5;124;43m'\u001B[39;49m\n\u001B[1;32m    101\u001B[0m \u001B[43m                                 \u001B[49m\u001B[38;5;124;43m'\u001B[39;49m\u001B[38;5;124;43mexpected unit \u001B[39;49m\u001B[38;5;132;43;01m{expected}\u001B[39;49;00m\u001B[38;5;124;43m'\u001B[39;49m\u001B[43m)\u001B[49m\u001B[43m \u001B[49m\u001B[38;5;241;43m%\u001B[39;49m\u001B[43m \u001B[49m\u001B[43mline\u001B[49m\u001B[43m,\u001B[49m\n\u001B[1;32m    102\u001B[0m \u001B[43m                                \u001B[49m\u001B[43mexpected\u001B[49m\u001B[38;5;241;43m=\u001B[39;49m\u001B[43mexpected_unit\u001B[49m\u001B[43m)\u001B[49m\n\u001B[1;32m    103\u001B[0m \u001B[38;5;28;01melif\u001B[39;00m varname \u001B[38;5;129;01min\u001B[39;00m newly_defined:\n\u001B[1;32m    104\u001B[0m     \u001B[38;5;66;03m# note the unit for later\u001B[39;00m\n\u001B[1;32m    105\u001B[0m     variables[varname] \u001B[38;5;241m=\u001B[39m Variable(name\u001B[38;5;241m=\u001B[39mvarname,\n\u001B[1;32m    106\u001B[0m                                   dimensions\u001B[38;5;241m=\u001B[39mget_dimensions(expr_unit),\n\u001B[1;32m    107\u001B[0m                                   scalar\u001B[38;5;241m=\u001B[39m\u001B[38;5;28;01mFalse\u001B[39;00m)\n",
      "File \u001B[0;32m~/Desktop/MA2/NI/Python/venv/lib/python3.10/site-packages/brian2/units/fundamentalunits.py:185\u001B[0m, in \u001B[0;36mfail_for_dimension_mismatch\u001B[0;34m(obj1, obj2, error_message, **error_quantities)\u001B[0m\n\u001B[1;32m    182\u001B[0m \u001B[38;5;66;03m# If we are comparing an object to a specific unit, we don't want to\u001B[39;00m\n\u001B[1;32m    183\u001B[0m \u001B[38;5;66;03m# restate this unit (it is probably mentioned in the text already)\u001B[39;00m\n\u001B[1;32m    184\u001B[0m \u001B[38;5;28;01mif\u001B[39;00m obj2 \u001B[38;5;129;01mis\u001B[39;00m \u001B[38;5;28;01mNone\u001B[39;00m \u001B[38;5;129;01mor\u001B[39;00m \u001B[38;5;28misinstance\u001B[39m(obj2, (Dimension, Unit)):\n\u001B[0;32m--> 185\u001B[0m     \u001B[38;5;28;01mraise\u001B[39;00m DimensionMismatchError(error_message, dim1)\n\u001B[1;32m    186\u001B[0m \u001B[38;5;28;01melse\u001B[39;00m:\n\u001B[1;32m    187\u001B[0m     \u001B[38;5;28;01mraise\u001B[39;00m DimensionMismatchError(error_message, dim1, dim2)\n",
      "\u001B[0;31mDimensionMismatchError\u001B[0m: The right-hand-side of code statement \"w = 0.2\" does not have the expected unit m^2 kg s^-3 A^-1 (unit is 1)."
     ]
    }
   ],
   "source": [
    "# Add your code here\n",
    "S = Synapses(input_G, G, 'w : volt', on_pre='v_post += w')\n",
    "S.connect(j='i')\n",
    "S.w = '0.2'\n",
    "S.delay = '2*ms'"
   ]
  },
  {
   "cell_type": "markdown",
   "metadata": {},
   "source": [
    "<div class=\"alert alert-block alert-success\">\n",
    "\n",
    "<b>Answer the following as a Markdown cell</b>  \n",
    "    \n",
    "What is the unit of your weight parameter? Is it <i>unitless</i>?<br/><br/>\n",
    "    If <b>yes</b>, can you change it to a physical unit?<br/> If <b>no</b>, can you make it unitless?\n",
    "</div>\n",
    "\n",
    "***\n",
    "**What changes you had to made for this**\n",
    "***\n",
    "\n",
    "<div class=\"alert alert-block alert-info\">\n",
    "\n",
    "    In the tutorial 2-intro-to-brian-synapses, they define v as unitless variable (in the equation \"eqs\"). But we defined it as a voltage. Thus from the condition v_post += w where w is added to v_post (which is a voltage) we know that w is a voltage.\n",
    "</div>"
   ]
  },
  {
   "cell_type": "markdown",
   "metadata": {
    "deletable": false,
    "editable": false,
    "run_control": {
     "frozen": true
    }
   },
   "source": [
    "***\n",
    "<b> Step 4: </b> Plot the <b>Frequency-Frequency</b> curve with input ranging from $0$ ~ $200 Hz$? Feel free to pick the step size. Simulation duration = $1 second$ \n",
    "\n",
    " **Copy paste the previous code to save time**\n",
    "***"
   ]
  },
  {
   "cell_type": "code",
   "execution_count": 37,
   "metadata": {},
   "outputs": [
    {
     "name": "stderr",
     "output_type": "stream",
     "text": [
      "WARNING    'spikemonitor_3' has been included in the network but not the object on which it depends.Setting 'spikemonitor_3' to inactive. [brian2.core.magic.dependency_warning]\n",
      "WARNING    'spikemonitor_2' has been included in the network but not the object on which it depends.Setting 'spikemonitor_2' to inactive. [brian2.core.magic.dependency_warning]\n",
      "WARNING    'spikemonitor_4' has been included in the network but not the object on which it depends.Setting 'spikemonitor_4' to inactive. [brian2.core.magic.dependency_warning]\n",
      "WARNING    'spikemonitor_3' has been included in the network but not the object on which it depends.Setting 'spikemonitor_3' to inactive. [brian2.core.magic.dependency_warning]\n",
      "WARNING    'spikemonitor_2' has been included in the network but not the object on which it depends.Setting 'spikemonitor_2' to inactive. [brian2.core.magic.dependency_warning]\n",
      "WARNING    'spikemonitor_4' has been included in the network but not the object on which it depends.Setting 'spikemonitor_4' to inactive. [brian2.core.magic.dependency_warning]\n",
      "WARNING    'spikemonitor_3' has been included in the network but not the object on which it depends.Setting 'spikemonitor_3' to inactive. [brian2.core.magic.dependency_warning]\n",
      "WARNING    'spikemonitor_2' has been included in the network but not the object on which it depends.Setting 'spikemonitor_2' to inactive. [brian2.core.magic.dependency_warning]\n",
      "WARNING    'spikemonitor_4' has been included in the network but not the object on which it depends.Setting 'spikemonitor_4' to inactive. [brian2.core.magic.dependency_warning]\n",
      "WARNING    'spikemonitor_3' has been included in the network but not the object on which it depends.Setting 'spikemonitor_3' to inactive. [brian2.core.magic.dependency_warning]\n"
     ]
    },
    {
     "data": {
      "text/plain": "<Figure size 432x288 with 1 Axes>",
      "image/png": "[encoded data removed]"
     },
     "metadata": {
      "needs_background": "light"
     },
     "output_type": "display_data"
    }
   ],
   "source": [
    "# TODO: plot the FF (output fequency VS input frequency)\n",
    "start_scope()\n",
    "\n",
    "input_rate_range = np.arange(0, 200, 20)*Hz\n",
    "firing_rates = []\n",
    "\n",
    "duration = 1*second # set time duration\n",
    "tau = 20*ms\n",
    "Vext = 20 * mV\n",
    "Vrst = 0 * volt\n",
    "Vth  = 15 * mV\n",
    "refractory = 5 * ms\n",
    "num_inputs = 1\n",
    "\n",
    "for input_rate in input_rate_range:\n",
    "    # Input layer\n",
    "    input_P = PoissonGroup(num_inputs, rates=input_rate)\n",
    "\n",
    "    # Ouput Layer\n",
    "    eqs = \"\"\"\n",
    "    dv/dt = (-v + Vext)/tau : volt\n",
    "    \"\"\"\n",
    "    G = NeuronGroup(1, eqs, method='exact',reset='v = Vrst', refractory='refractory', threshold='v > Vth')\n",
    "    spike_M = SpikeMonitor(G)\n",
    "\n",
    "    # Connection\n",
    "    S = Synapses(input_P, G, 'w : volt', on_pre='v_post += w')\n",
    "    S.connect(j='i') # to precise a one-to-one connection (but in this case it's useless as there are only 2 neurons in the network)\n",
    "    S.w = '20*mV'\n",
    "    S.delay = '2*ms'\n",
    "\n",
    "    run(duration)\n",
    "\n",
    "    firing_rates.append(spike_M.count/second)\n",
    "\n",
    "\n",
    "plot(input_rate_range, firing_rates, \".-\")\n",
    "xlabel('Input frequency (Hz)')\n",
    "ylabel('Output frequency (Hz)')\n",
    "show()"
   ]
  },
  {
   "cell_type": "markdown",
   "metadata": {},
   "source": [
    "Note: if you get \"MagicError: The magic network contains a mix of objects that has been run before and new objects, Brian does not know whether you want to start a new simulation or continue an old one.\", please re-run from the first cell of part 2."
   ]
  },
  {
   "cell_type": "markdown",
   "metadata": {
    "deletable": false,
    "editable": false,
    "run_control": {
     "frozen": true
    }
   },
   "source": [
    "<div class=\"alert alert-block alert-warning\">\n",
    "\n",
    "***\n",
    "**In the previous lecture, we discussed that F-F curve may varies based on certain parameters. For instance *synaptic weight*, *time constant*: $\\tau$, *refactory period*.**\n",
    "\n",
    "**To see this in action,**\n",
    "</div>\n",
    "\n",
    "<b>Step 5: </b> Plot F-F curve with different synaptic weight **ranging between 2. to 24. value** and plot the corresponding F-F curves in the same figure.\n",
    "    \n",
    "<br/>\n",
    "<i>Hint: If you want, you can use multiple neurons for weight + multiple runs for input rate. </i>\n",
    "\n",
    "***"
   ]
  },
  {
   "cell_type": "code",
   "execution_count": null,
   "metadata": {},
   "outputs": [],
   "source": [
    "# Add your code here"
   ]
  },
  {
   "cell_type": "markdown",
   "metadata": {},
   "source": [
    "<div class=\"alert alert-block alert-success\">\n",
    "\n",
    "<b>Answer the following as a Markdown cell</b>  \n",
    "    \n",
    "Do you see variation in neuronal behavior for different values of weights? Can you explain why?<br/><br/>\n",
    "   \n",
    "***\n",
    "\n",
    "</div>\n",
    "\n",
    "<div class=\"alert alert-block alert-info\">\n",
    "    #todo\n",
    "</div>\n"
   ]
  },
  {
   "cell_type": "markdown",
   "metadata": {},
   "source": [
    "***\n",
    "\n",
    "<b>Step 6: [TODO] </b> Repeat the same experiment for different values of refactory period **ranging between 2. to 30. ms** and compare it with your previous plot?\n",
    "    \n",
    "<br/>\n",
    "\n",
    "\n",
    "***"
   ]
  },
  {
   "cell_type": "markdown",
   "metadata": {},
   "source": [
    "## Submission\n",
    "Now, let's export the jupyter notebook \"week1.ipynb\" to HTML format for submission."
   ]
  },
  {
   "cell_type": "code",
   "execution_count": 1,
   "metadata": {},
   "outputs": [
    {
     "name": "stdout",
     "output_type": "stream",
     "text": [
      "[NbConvertApp] Converting notebook week1-lab_session.ipynb to html\n",
      "[NbConvertApp] Writing 585663 bytes to week1-lab_session.html\n"
     ]
    }
   ],
   "source": [
    "!jupyter nbconvert --to html week1-lab_session.ipynb"
   ]
  },
  {
   "cell_type": "markdown",
   "metadata": {},
   "source": [
    "Please rename the HTML file to \"Session01_Lastname_Firstname.html\", and then upload your file to your OLAT Drop Box."
   ]
  }
 ],
 "metadata": {
  "kernelspec": {
   "display_name": "Python 3 (ipykernel)",
   "language": "python",
   "name": "python3"
  },
  "language_info": {
   "codemirror_mode": {
    "name": "ipython",
    "version": 3
   },
   "file_extension": ".py",
   "mimetype": "text/x-python",
   "name": "python",
   "nbconvert_exporter": "python",
   "pygments_lexer": "ipython3",
   "version": "3.10.0"
  },
  "toc": {
   "base_numbering": 1,
   "nav_menu": {},
   "number_sections": true,
   "sideBar": true,
   "skip_h1_title": false,
   "title_cell": "Table of Contents",
   "title_sidebar": "Contents",
   "toc_cell": true,
   "toc_position": {},
   "toc_section_display": true,
   "toc_window_display": true
  }
 },
 "nbformat": 4,
 "nbformat_minor": 4
}