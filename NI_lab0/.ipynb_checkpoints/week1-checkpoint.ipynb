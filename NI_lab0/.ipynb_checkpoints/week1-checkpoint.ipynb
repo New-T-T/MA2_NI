{
 "cells": [
  {
   "cell_type": "markdown",
   "metadata": {},
   "source": [
    "# Get to know the neurons! simulate a spiking neuron using Brian2 simulator\n",
    "\n",
    "By [Jingyue Zhao](https://www.ini.uzh.ch/fw1/modules/ini/ini.php/people/jzhao), [Elisa Donati](https://www.ini.uzh.ch/fw1/modules/ini/ini.php/people/elisa) and \n",
    "[Giacomo Indiveri](https://www.ini.uzh.ch/fw1/modules/ini/ini.php/people/giacomo) \n",
    "\n",
    "In this exercise we will use tools from neuroscience community to learn some dynamics of spiking neurons. Specifically, We will learn to simulate and monitor an integrate-and-fire neuron (leaky I&F) neuron, and plot its Frequency-Input (FI) curve. We then simulate a neuron with one excitatory synapse and do an Frequency-Frequency (FF) curve for different weight values.\n",
    "\n",
    "We will use [Brian2](https://brian2.readthedocs.io/en/stable/) to simulate our spiking neurons. There are other options available (NEST, PyTorch, etc.), but Brian2 is both fast and flexible when working with spikes. More importantly, our group has already implemented the neural and synaptic circuit models of our custom neuromorphic processor DYNAP-SE1 on Brian2, which we will learn in the future lectures."
   ]
  },
  {
   "cell_type": "markdown",
   "metadata": {},
   "source": [
    "So, let's start with importing Brian2."
   ]
  },
  {
   "cell_type": "code",
   "execution_count": null,
   "metadata": {},
   "outputs": [],
   "source": [
    "from brian2 import *\n",
    "import numpy as np"
   ]
  },
  {
   "cell_type": "markdown",
   "metadata": {},
   "source": [
    "## Part 1: Frequency-Input curve of an integrate-and-fire neuron.\n",
    "Let's create an integrate-and-fire neuron (leaky I&F) with an input parameter v0, and then monitor its Frequency-Input curve."
   ]
  },
  {
   "cell_type": "markdown",
   "metadata": {},
   "source": [
    "### Integrate-and-fire (leaky I&F)  neuron model\n",
    "Let’s start by defining the neuron model. In Brian, all models are defined by systems of differential equations. Here’s a simple example of an integrate-and-fire neuron model:"
   ]
  },
  {
   "cell_type": "code",
   "execution_count": null,
   "metadata": {},
   "outputs": [],
   "source": [
    "start_scope()\n",
    "\n",
    "tau = 20*ms\n",
    "eqs = '''\n",
    "dv/dt = (v0 - v) / tau : volt (unless refractory)\n",
    "v0 : volt\n",
    "'''"
   ]
  },
  {
   "cell_type": "markdown",
   "metadata": {},
   "source": [
    "Now let's use this definition to create a neuron."
   ]
  },
  {
   "cell_type": "code",
   "execution_count": null,
   "metadata": {},
   "outputs": [],
   "source": [
    "group = NeuronGroup(1, eqs, threshold='v > 15*mV', reset='v = 0*mV',\n",
    "                    refractory=5*ms, method='exact')"
   ]
  },
  {
   "cell_type": "markdown",
   "metadata": {},
   "source": [
    "Then, we set the input parameter v0 to 5*mV, and see what's the output frequency/firing rate of the neuron, i.e., how many times the neuron fires in during 1 second."
   ]
  },
  {
   "cell_type": "code",
   "execution_count": null,
   "metadata": {},
   "outputs": [],
   "source": [
    "group.v0 = 5*mV # input parameter\n",
    "duration = 1*second\n",
    "\n",
    "monitor = SpikeMonitor(group) # monitor the neuron\n",
    "\n",
    "print(\"Init: input=\",group.v0/mV, \"output=\",monitor.count / duration/Hz)\n",
    "\n",
    "run(duration) # simulate for 1 second\n",
    "\n",
    "print(\"After 1 sec: input=\",group.v0/mV, \"output=\",monitor.count / duration/Hz)"
   ]
  },
  {
   "cell_type": "markdown",
   "metadata": {},
   "source": [
    "Change the input parameter v0, and see how the output frequency changes. Please pay attention to the different effect of v0 that is smaller/larger than threshold voltage. Do you find something? Can you now plot the Frequency-Input curve of this neuron with input v0 in 0~30 mV?"
   ]
  },
  {
   "cell_type": "markdown",
   "metadata": {},
   "source": [
    "Hint: you can do multiple runs of the above simulation with various input v0 values, or you can create multiple neurons with different v0 in one neuron group and do one run of the simulation. Can you try both mothods?"
   ]
  },
  {
   "cell_type": "code",
   "execution_count": null,
   "metadata": {},
   "outputs": [],
   "source": [
    "# TODO: plot the Frequency-Input curve, multiple runs of 1 neuron\n",
    "start_scope()\n",
    "\n",
    "duration = 1*second\n",
    "tau = 20*ms\n",
    "\n",
    "v0_range = np.arange(0, 30, 3)*mV\n",
    "firing_rates = []\n",
    "\n",
    "for v0_value in v0_range:\n",
    "    # TODO\n",
    "    \n",
    "plot(v0_range/mV, firing_rates, \".-\")\n",
    "xlabel('Input v0 (mV)')\n",
    "ylabel('Firing rate (Hz)')\n",
    "show()"
   ]
  },
  {
   "cell_type": "code",
   "execution_count": null,
   "metadata": {},
   "outputs": [],
   "source": [
    "# TODO: plot the Frequency-Input curve, 1 run of multiple neurons\n",
    "start_scope()\n",
    "\n",
    "n = 10 # number of neurons in the group\n",
    "duration = 1*second\n",
    "tau = 20*ms\n",
    "\n",
    "# TODO\n",
    "\n",
    "plot(group.v0/mV, monitor.count / duration, \".-\")\n",
    "xlabel('Input v0 (mV)')\n",
    "ylabel('Firing rate (Hz)')\n",
    "show()"
   ]
  },
  {
   "cell_type": "markdown",
   "metadata": {},
   "source": [
    "You should get the same FI curve using these 2 different methods :b"
   ]
  },
  {
   "cell_type": "markdown",
   "metadata": {},
   "source": [
    "## Part 2: Frequency-Frequency curve of an integrate-and-fire neuron.\n",
    "Let's now monitor the Frequency-Frequency curve of the neuron. The Frequency-Frequency curve is the firing rate of the neuron VS the frequency of input spikes received by the neuron via the synapse. To do so, we need to create a spike generator, a neuron, and a synapse connecting these two. We use the spike generator to generate input spikes as the simuli which are sent through the synapse to the neuron. "
   ]
  },
  {
   "cell_type": "markdown",
   "metadata": {},
   "source": [
    "Let's first define the spike generator which produces 100 spikes during 1 second. Here, we set the interspike interval (isi) to be constant, i.e. the input spikes are uniformly distributed. The input frequency is 100 Hz. In practice, we usually use Poisson distributed spikes to mimic the noisy biological spikes."
   ]
  },
  {
   "cell_type": "code",
   "execution_count": null,
   "metadata": {},
   "outputs": [],
   "source": [
    "start_scope()\n",
    "\n",
    "indices = np.zeros(100)\n",
    "times = np.arange(0, 1, 0.01)*second\n",
    "\n",
    "spikegens = SpikeGeneratorGroup(1, indices, times)"
   ]
  },
  {
   "cell_type": "markdown",
   "metadata": {},
   "source": [
    "We use the same leaky I&F neuron model as above."
   ]
  },
  {
   "cell_type": "code",
   "execution_count": null,
   "metadata": {},
   "outputs": [],
   "source": [
    "tau = 20*ms\n",
    "eqs = '''\n",
    "dv/dt = (v0 - v) / tau : volt (unless refractory)\n",
    "v0 : volt\n",
    "'''\n",
    "neurons = NeuronGroup(1, eqs, threshold='v > 15*mV', reset='v = 0*mV',\n",
    "                    refractory=5*ms, method='exact')\n",
    "neurons.v0 = 0*mV"
   ]
  },
  {
   "cell_type": "markdown",
   "metadata": {},
   "source": [
    "Then we create a synapse which connects the spike generator and the neuron."
   ]
  },
  {
   "cell_type": "code",
   "execution_count": null,
   "metadata": {},
   "outputs": [],
   "source": [
    "synapses = Synapses(spikegens, neurons, 'w : 1', on_pre='v_post += w*mV')\n",
    "synapses.connect(j='i')\n",
    "synapses.w = 10\n",
    "synapses.delay = '2*ms'"
   ]
  },
  {
   "cell_type": "markdown",
   "metadata": {},
   "source": [
    "``'w : 1'`` indicates w does not have a unit, thus in ``on_pre='v_post += w*mV'`` we need to multiply w by mV, which means that everytime the neuron gets 1 spike from this synapse, its membrane potential ``v`` increases by ``w*mV``. Here, we set the weight of the synapse to be 10, and the transmission delay to be 2 ms."
   ]
  },
  {
   "cell_type": "markdown",
   "metadata": {},
   "source": [
    "Now, we monitor the output spikes of the neuron during 1 second."
   ]
  },
  {
   "cell_type": "code",
   "execution_count": null,
   "metadata": {},
   "outputs": [],
   "source": [
    "duration = 1*second\n",
    "monitor = SpikeMonitor(neurons)\n",
    "run(duration)\n",
    "\n",
    "print(\"Firing rate=\", monitor.count / duration)"
   ]
  },
  {
   "cell_type": "markdown",
   "metadata": {},
   "source": [
    "How many spikes did you get? Try different input frequency and see? What about different synaptic weight?"
   ]
  },
  {
   "cell_type": "markdown",
   "metadata": {},
   "source": [
    "Note: if you get \"MagicError: The magic network contains a mix of objects that has been run before and new objects, Brian does not know whether you want to start a new simulation or continue an old one.\", please re-run from the first cell of part 2."
   ]
  },
  {
   "cell_type": "markdown",
   "metadata": {},
   "source": [
    "Now please do an FF (output fequency VS input frequency) curve of the neuron given w=10, delay=2ms, and see how the firing rate changes with the increase of the input frequency from 0 to 200 Hz."
   ]
  },
  {
   "cell_type": "code",
   "execution_count": null,
   "metadata": {},
   "outputs": [],
   "source": [
    "# TODO: plot the FF (output fequency VS input frequency)\n",
    "start_scope()\n",
    "\n",
    "duration = 1*second\n",
    "tau = 20*ms\n",
    "\n",
    "input_range = np.arange(0, 200, 20)\n",
    "firing_rates = []\n",
    "\n",
    "# TODO\n",
    "    \n",
    "plot(input_range, firing_rates, \".-\")\n",
    "xlabel('Input frequency (Hz)')\n",
    "ylabel('Output frequency (Hz)')\n",
    "show()"
   ]
  },
  {
   "cell_type": "markdown",
   "metadata": {},
   "source": [
    "Now we get the FF curve with w=10, can you try different synaptic weight and plot the corresponding FF curves in the same figure?"
   ]
  },
  {
   "cell_type": "markdown",
   "metadata": {},
   "source": [
    "Hint: you can use multiple neurons for weight + multiple runs for input rate."
   ]
  },
  {
   "cell_type": "code",
   "execution_count": null,
   "metadata": {},
   "outputs": [],
   "source": [
    "start_scope()\n",
    "\n",
    "import matplotlib.pyplot as plt\n",
    "\n",
    "n = 8 # number of neurons in the group\n",
    "duration = 1*second\n",
    "tau = 20*ms\n",
    "\n",
    "weights = np.arange(0, 24, 24/n)\n",
    "input_range = np.arange(0, 200, 20)\n",
    "firing_rates = []\n",
    "\n",
    "# TODO\n",
    "    \n",
    "\n",
    "fig = plt.figure()\n",
    "# TODO\n",
    "\n",
    "plt.xlabel('Input frequency (Hz)')\n",
    "plt.ylabel('Output frequency (Hz)')\n",
    "plt.legend()\n",
    "plt.show()"
   ]
  },
  {
   "cell_type": "markdown",
   "metadata": {},
   "source": [
    "How many different lines do you see from the plots given 8 different synaptic weights? Can you explain why?"
   ]
  },
  {
   "cell_type": "markdown",
   "metadata": {},
   "source": [
    "# TODO\n"
   ]
  },
  {
   "cell_type": "markdown",
   "metadata": {},
   "source": [
    "You've finished exercise 1! Good job!"
   ]
  },
  {
   "cell_type": "markdown",
   "metadata": {},
   "source": [
    "## Submission\n",
    "Now, let's export the jupyter notebook \"week1.ipynb\" to HTML format for submission."
   ]
  },
  {
   "cell_type": "code",
   "execution_count": null,
   "metadata": {},
   "outputs": [],
   "source": [
    "!jupyter nbconvert --to html week1_answers.ipynb"
   ]
  },
  {
   "cell_type": "markdown",
   "metadata": {},
   "source": [
    "Please rename the HTML file to \"Session01_Lastname_Firstname.html\", and then upload your file to your OLAT Drop Box."
   ]
  }
 ],
 "metadata": {
  "kernelspec": {
   "display_name": "Python 3 (ipykernel)",
   "language": "python",
   "name": "python3"
  },
  "language_info": {
   "codemirror_mode": {
    "name": "ipython",
    "version": 3
   },
   "file_extension": ".py",
   "mimetype": "text/x-python",
   "name": "python",
   "nbconvert_exporter": "python",
   "pygments_lexer": "ipython3",
   "version": "3.8.10"
  }
 },
 "nbformat": 4,
 "nbformat_minor": 4
}
