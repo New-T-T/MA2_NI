{
 "cells": [
  {
   "cell_type": "markdown",
   "id": "d8044a07",
   "metadata": {
    "deletable": false,
    "editable": false,
    "run_control": {
     "frozen": true
    }
   },
   "source": [
    "# Exercise 1: Get to know the neurons! "
   ]
  },
  {
   "cell_type": "markdown",
   "id": "9291d886",
   "metadata": {},
   "source": [
    "Prepared by [Jingyue\n",
    "Zhao](https://www.ini.uzh.ch/fw1/modules/ini/ini.php/people/jzhao),\n",
    "[Elisa\n",
    "Donati](https://www.ini.uzh.ch/fw1/modules/ini/ini.php/people/elisa) and\n",
    "[Giacomo\n",
    "Indiveri](https://www.ini.uzh.ch/fw1/modules/ini/ini.php/people/giacomo)\n",
    "\n",
    "The Institute of Neuroinformatics, University of Zurich and ETH Zurich\n",
    "\n",
    "This folder contains the tutorial files to learn and simulate the biological neurons."
   ]
  },
  {
   "cell_type": "markdown",
   "id": "88c8ef89",
   "metadata": {
    "deletable": false,
    "editable": false
   },
   "source": [
    "## First, let's get start with the biological neurons"
   ]
  },
  {
   "cell_type": "markdown",
   "id": "92fc467b",
   "metadata": {
    "deletable": false,
    "editable": false
   },
   "source": [
    "Here's a good website to learn the features of the biological neurons and synapses.\n",
    "\n",
    "<http://jackterwilliger.com/biological-neural-networks-part-i-spiking-neurons/>. <br/>\n"
   ]
  },
  {
   "cell_type": "markdown",
   "id": "13fbf5fc",
   "metadata": {
    "deletable": false,
    "editable": false
   },
   "source": [
    "\n",
    "http://jackterwilliger.com/biological-neural-network-synapses/ <br/>\n",
    "\n",
    "Have fun!"
   ]
  },
  {
   "cell_type": "markdown",
   "id": "d01fcabe",
   "metadata": {},
   "source": [
    "# Tools and IDE\n"
   ]
  },
  {
   "cell_type": "markdown",
   "id": "e4a6143d",
   "metadata": {},
   "source": [
    "## Simulation Tool\n",
    "\n",
    "We will use [Brian2](https://brian2.readthedocs.io/en/stable/) simulator for NI class \n",
    "\n",
    "<b>Othe SNN simulation tools:</b>\n",
    "\n",
    "- [NEST](https://www.nest-simulator.org/) \n",
    "- Pytorch \n",
    "- [Nengo](https://www.nengo.ai/)\n",
    "Nengo\n",
    "\n",
    "## IDE\n",
    "[JupyterLab](https://jupyterlab.readthedocs.io/en/stable/) or [Jupyter Notebook](https://jupyter-notebook.readthedocs.io/en/stable/) (old) <br/> <i>[Try](https://jupyter.org/try) and pick one:</i>\n",
    "\n",
    "<b>Other non browser IDE </b>\n",
    "- Atom \n",
    "- VS Code \n"
   ]
  },
  {
   "cell_type": "markdown",
   "id": "5ba0042c",
   "metadata": {},
   "source": [
    "# Installation of brian2 and JupyterLab\n",
    "\n",
    "## Anaconda environment\n",
    "\n",
    "-   Create a virtual environment from environment.yml file\n",
    "    [conda](https://conda.io/docs/user-guide/install/index.html)\n",
    "\n",
    "``` language-bash\n",
    "conda env create -f environment.yml\n",
    "```\n",
    "\n",
    "-   Activate the environment that just installed dependencies\n",
    "\n",
    "``` language-bash\n",
    "conda activate brian2\n",
    "```\n",
    "\n",
    "## Python virtual environment\n",
    "``` language-bash\n",
    "python3 -m venv brian2\n",
    "```\n",
    "- Activate environment\n",
    "\n",
    "``` language-bash\n",
    "source devspace/NeuroIntel/bin/\n",
    "pip3 install -r requirements.txt\n",
    "```\n",
    "\n",
    "\n",
    "## 2. Study the Brian2 tutorials\n",
    "\n",
    "-   Tutorial 1:\n",
    "    [Neurons](https://brian2.readthedocs.io/en/stable/resources/tutorials/1-intro-to-brian-neurons.html#)\n",
    "\n",
    "-   Tutorial 2:\n",
    "    [Synapses](https://brian2.readthedocs.io/en/stable/resources/tutorials/2-intro-to-brian-synapses.html)\n",
    "\n",
    "-   Tutorial 3:\n",
    "    [Simulations](https://brian2.readthedocs.io/en/stable/resources/tutorials/3-intro-to-brian-simulations.html)\n",
    "\n",
    "-   Tutorial 4: [Input\n",
    "    stimuli](https://brian2.readthedocs.io/en/stable/user/input.html)\n",
    "\n",
    "## 3. Exercise of this week\n",
    "\n",
    "Now you have learned how to simulate a spiking neuron using brian2.\n",
    "Let's get our hands on to do some experiments!\n",
    "\n",
    "``` language-bash\n",
    "jupyter lab\n",
    "```\n",
    "\n",
    "-   From the list on the left, select `week1.ipynb`.\n",
    "\n",
    "## 4. Submission\n",
    "\n",
    "1.  There will be questions and places that you can write your answers\n",
    "    in the Jupyter notebook. Please check all the **TODO** labels and\n",
    "    make sure you don't miss any questions 😃\n",
    "2.  To submit your answers, please export the Jupyter notebook\n",
    "    `week1.ipynb` to HTML format and upload it to your OLAT Drop Box\n",
    "    with the filename `Session01_Lastname_Firstname.html`."
   ]
  },
  {
   "cell_type": "code",
   "execution_count": null,
   "id": "c19a697e",
   "metadata": {},
   "outputs": [],
   "source": []
  }
 ],
 "metadata": {
  "kernelspec": {
   "display_name": "Python 3 (ipykernel)",
   "language": "python",
   "name": "python3"
  },
  "language_info": {
   "codemirror_mode": {
    "name": "ipython",
    "version": 3
   },
   "file_extension": ".py",
   "mimetype": "text/x-python",
   "name": "python",
   "nbconvert_exporter": "python",
   "pygments_lexer": "ipython3",
   "version": "3.8.10"
  },
  "toc": {
   "base_numbering": 1,
   "nav_menu": {},
   "number_sections": true,
   "sideBar": true,
   "skip_h1_title": false,
   "title_cell": "Table of Contents",
   "title_sidebar": "Contents",
   "toc_cell": false,
   "toc_position": {},
   "toc_section_display": true,
   "toc_window_display": false
  }
 },
 "nbformat": 4,
 "nbformat_minor": 5
}
