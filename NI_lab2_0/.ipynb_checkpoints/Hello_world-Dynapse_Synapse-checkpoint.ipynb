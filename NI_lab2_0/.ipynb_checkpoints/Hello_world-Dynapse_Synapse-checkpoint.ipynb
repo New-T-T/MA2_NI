{
 "cells": [
  {
   "cell_type": "markdown",
   "metadata": {
    "toc": true
   },
   "source": [
    "<h1>Table of Contents<span class=\"tocSkip\"></span></h1>\n",
    "<div class=\"toc\"><ul class=\"toc-item\"><li><span><a href=\"#Introduction-to-DYNAP-SE\" data-toc-modified-id=\"Introduction-to-DYNAP-SE-1\"><span class=\"toc-item-num\">1&nbsp;&nbsp;</span>Introduction to DYNAP-SE</a></span><ul class=\"toc-item\"><li><span><a href=\"#Meeting-silicon-neuron-for-the-first-time!-Hello-Neuron\" data-toc-modified-id=\"Meeting-silicon-neuron-for-the-first-time!-Hello-Neuron-1.1\"><span class=\"toc-item-num\">1.1&nbsp;&nbsp;</span>Meeting silicon neuron for the first time! Hello Neuron</a></span></li><li><span><a href=\"#AMPA-Synapse\" data-toc-modified-id=\"AMPA-Synapse-1.2\"><span class=\"toc-item-num\">1.2&nbsp;&nbsp;</span>AMPA Synapse</a></span></li></ul></li><li><span><a href=\"#NMDA-Synapse\" data-toc-modified-id=\"NMDA-Synapse-2\"><span class=\"toc-item-num\">2&nbsp;&nbsp;</span>NMDA Synapse</a></span></li><li><span><a href=\"#Subtractive-Inhibition-(GABA_B)\" data-toc-modified-id=\"Subtractive-Inhibition-(GABA_B)-3\"><span class=\"toc-item-num\">3&nbsp;&nbsp;</span>Subtractive Inhibition (GABA_B)</a></span></li><li><span><a href=\"#Spike-frequency-adaptation-of-DPI-Neurons\" data-toc-modified-id=\"Spike-frequency-adaptation-of-DPI-Neurons-4\"><span class=\"toc-item-num\">4&nbsp;&nbsp;</span>Spike frequency adaptation of DPI Neurons</a></span></li></ul></div>"
   ]
  },
  {
   "cell_type": "markdown",
   "metadata": {},
   "source": [
    "# Introduction to DYNAP-SE\n",
    "\n",
    "By [Jingyue Zhao](https://www.ini.uzh.ch/fw1/modules/ini/ini.php/people/jzhao), [Elisa Donati](https://www.ini.uzh.ch/fw1/modules/ini/ini.php/people/elisa) and \n",
    "[Giacomo Indiveri](https://www.ini.uzh.ch/fw1/modules/ini/ini.php/people/giacomo) \n",
    "\n",
    "In this exercise we will learn how to set up a **neuron** and a **synapse**, connect them and form a **network**, and monitor the electrical signals at various stages in the chip simulator. "
   ]
  },
  {
   "cell_type": "markdown",
   "metadata": {},
   "source": [
    "***\n",
    "#### Differential Pair Integrator (DPI)\n",
    "\n",
    "---\n",
    "\n",
    "\n",
    "The computational principles of the brain are vastly different from conventional computers. Rather than using Boolean logic, clocked operation, and distinct memory and processing units, the biological brain works at massively parallel, fault-tolerant, asynchronous manner. In neuromorphic engineering, we aim to design compact, energy-efficient computational devices that directly _emulate_ the style of computation of the brain with **the physics of the silicon.** To achieve that, we use analog Complementary Metal-Oxide-Semiconductor (CMOS) technology to implement neural and synaptic circuits and integrate into Very Large Scale Integration (VLSI) devices. In these architectures, time represents itself (no clock) - neurons process the incoming spikes as they arrive and produce output spikes in real-time. Consequently, to process real-world sensory signals efficiently, neuromorphic systems must use circuits with biologically plausible time constants that match environment statistics ($\\sim 10-100$ ms). \n",
    "\n",
    "<img src=\"img/DPI_advanced.png\" alt=\"DPI circuit.\" style=\"width: 450px;\">\n",
    "\n",
    "DPI circuit shown above is the fundamental building block to implement silicon neurons and synapses with tunable time-constants. It is totally fine if you do not understand how it works from the circuit diagram right away. The essence is that it has the response dynamics (the relation of input current $I_{i n}$ and output current $I_{out}$) of\n",
    "\n",
    "$$\\tau \\frac{d}{d t} I_{o u t}+I_{o u t}=\\frac{I_{g}}{I_{\\tau}} I_{i n},$$\n",
    "\n",
    "where $\\tau \\triangleq C U_{T} / \\kappa I_{\\tau}$ ($C$ the capacitor, $U_T$ thermal voltage, $\\kappa$ subthreshold slope factor). DPI circuit can be tuned by adjusting the time constant, $I_{\\tau}$, and the gain factor by $I_{g}$. Hence DPI is simply a current-mode low pass filter with adjustable gain and time-constant. This will be the building block of silicon neurons and synapses.\n",
    "\n",
    "#### Silicon Neuron\n",
    "\n",
    "<img src=\"img/neuron.png\" alt=\"Neuron circuit.\" style=\"width: 400px;\">\n",
    "\n",
    "The above schematic shows the neuron circuit implementing Adaptive Exponential Integrate & Fire (AdEx) on Dynap-SE1. AdEx neurons are introduced by [Brette and Gerstner, 2005](https://www.readcube.com/library/a457847f-fdff-4d66-a32a-b3830a010b34:72216f6a-1527-440d-b775-be66fa7085a1) that capable of describing known neuronal firing patterns, e.g., adapting, bursting, delayed spike initiation, initial bursting, fast-spiking, and regular spiking. We will not go into detail of circuit analysis but describe the functional blocks. The yellow block is the input DPI circuit modeling neuron's leak conductance. The green block implements an additional low-pass ﬁlter that integrates the spikes and produces a slow current $I_{ahp}$ responsible for spike-frequency adaptation. The red block is a spike event generation amplifier implementing current-based positive feedback (modeling both $Na^{+}$ activation and inactivation conductances) and produces address-events at extremely low-power operation. Lastly, the blue block resets the neuron and keeps it in a resting state for a refractory period, set by the $V_{ref}$ bias voltage. Under some assumptions, the response dynamics of neuron block is:\n",
    "\n",
    "$$\\tau \\frac{d}{d t} I_{m e m}+I_{m e m} \\approx I_{i n}-I_{a h p}+f\\left(I_{m e m}\\right)$$\n",
    "$$\\tau_{a h p} \\frac{d}{d t} I_{a h p}+I_{a h p} \\approx I_{a h p} \\delta\\left(t_{s p i k e}\\right)$$\n",
    "\n",
    "\n",
    "Here, $I_{m e m}$ is the sub-threshold current that represents the real neuron's membrane potential variable, $I_{i n}$ is the input current that enters the neuron, $I_{a h p}$ characterizes the spike adaptation effect, $\\tau$ is the time-constant of leakage current. $f(x)$ is an exponential function with positive exponent which characterizes the passive properties, i.e. $f(x) = \\alpha e^{ \\beta x - \\gamma} + \\delta$.\n",
    "\n",
    "#### Silicon Synapse\n",
    "\n",
    "\n",
    "<img src=\"img/synapse.png\" alt=\"Synapse circuit.\" style=\"width: 400px;\">\n",
    "\n",
    "Lastly, the above schematic shows a typical silicon synapse circuit implemented on Dynap-SE1. The green block implements short-term depression (STD). The yellow block implements basic DPI dynamics and can be tuned to implement short-term facilitation (STF). The red block implements NMDA voltage-gated channels, and the blue block implements conductance-based voltage dependence. The simplified version of the response dynamics of the synaptic block is:\n",
    "\n",
    "$$\\tau \\frac{d}{d t} I_{s y n}(t)+I_{s y n}(t)=I_{w} \\delta\\left(t_{p r e}\\right)$$\n",
    "where $I_{s y n}$ is the synaptic current, $I_{w}$ is the gain factor (weight) of the synapse, and $\\tau$ is time constant of current decay.\n",
    "\n",
    "For more detailed explanations of neural and synaptic circuits (and especially the derivations and the assumptions behind the formulas mentioned) you can check [PDF available on arXiv.](https://arxiv.org/pdf/1403.6428.pdf)\n",
    "\n",
    ">Chicca, E., Stefanini, F., Bartolozzi, C., Indiveri, G. (2014). Neuromorphic Electronic Circuits for Building Autonomous Cognitive Systems Proceedings of the IEEE  102(9), 1367-1388.\n",
    "\n"
   ]
  },
  {
   "cell_type": "markdown",
   "metadata": {},
   "source": [
    "<div class=\"alert alert-block alert-info\">\n",
    "\n",
    "As mentioned in previous session, our group has already implemented the neural and synaptic circuit models that DYNAP-SE1 uses on Brian2. Therefore, you don't have to worry about it's computational details.\n",
    "\n",
    "If you want to have a look: Please feel free to wander around in the repository and dive into it's details later after you are done with the exercise\n",
    "</div>    "
   ]
  },
  {
   "cell_type": "markdown",
   "metadata": {},
   "source": [
    "## Meeting silicon neuron for the first time! Hello Neuron"
   ]
  },
  {
   "cell_type": "markdown",
   "metadata": {},
   "source": [
    "### Import libraries"
   ]
  },
  {
   "cell_type": "code",
   "execution_count": 1,
   "metadata": {},
   "outputs": [],
   "source": [
    "from brian2 import *\n"
   ]
  },
  {
   "cell_type": "markdown",
   "metadata": {},
   "source": [
    "**`DynapSE.py` wrapper class implements the DPI neuron, synaptic circuit models and monitors chip resources (e.g., number of available neurons per core, number of synapses between neurons, etc.)**"
   ]
  },
  {
   "cell_type": "code",
   "execution_count": 2,
   "metadata": {},
   "outputs": [],
   "source": [
    "from DynapSE import DynapSE"
   ]
  },
  {
   "cell_type": "code",
   "execution_count": 3,
   "metadata": {},
   "outputs": [],
   "source": [
    "import numpy as np\n",
    "import matplotlib as mpl\n",
    "import matplotlib.pyplot as plt\n",
    "\n",
    "# Display plots inside Jupyter cell\n",
    "%matplotlib inline \n",
    "# Set the dots-per-inch (resolution) of the images\n",
    "mpl.rcParams['figure.dpi'] = 90"
   ]
  },
  {
   "cell_type": "markdown",
   "metadata": {},
   "source": [
    "The ordinary differential equations defining neuron and synapse models should be accessible by Brian2. Let's import the model equations and their parameters."
   ]
  },
  {
   "cell_type": "code",
   "execution_count": 4,
   "metadata": {},
   "outputs": [],
   "source": [
    "from equations.dynapse_eq import *\n",
    "from parameters.dynapse_param import *\n",
    "\n",
    "# C++ code generation for faster spiking network simulation\n",
    "set_device('cpp_standalone')\n",
    "# Ignore Brian2 base warnings\n",
    "BrianLogger.suppress_name('base')\n",
    "# The clock of Brian2 simulation for numerically solve ODEs\n",
    "defaultclock.dt = 20 * us"
   ]
  },
  {
   "cell_type": "markdown",
   "metadata": {},
   "source": [
    "#### Some tips and a note on Hardware restrictions"
   ]
  },
  {
   "cell_type": "markdown",
   "metadata": {},
   "source": [
    "<div class=\"alert alert-block alert-info\">\n",
    "\n",
    "**COREs**\n",
    "***\n",
    "\n",
    "In the simulation, you can allocate `num_n` neurons from a core `X` by using `get_neurons(num_n, 'Core_X')` method, where X range from 0 to 4, which returns a [SubGroup](https://brian2.readthedocs.io/en/stable/reference/brian2.groups.subgroup.Subgroup.html) of DPI neurons.\n",
    "\n",
    "***\n",
    "**CONNECTIVITY**\n",
    "***\n",
    "\n",
    "- An individual neuron can have a <b>fan-in of 64</b> and a <b>fan-out of 4k connections</b>. \n",
    "- The synapses exhibits one of 4 different behaviors: \n",
    "    - AMPA (excitatory), \n",
    "    - NMDA (excitatory), \n",
    "    - GABA_B (subtractive inhibitory), \n",
    "    - or GABA_A (shunting inhibitory). \n",
    "    \n",
    "\n",
    "User can connect different neurons (which are obtained with `get_neurons()`) to each other using `add_connection(pre_population, post_population, synapse_type)` method. Synapse type can be either `AMPA`, `NMDA`, `GABA_B` and `GABA_A`.\n",
    "\n",
    "\n",
    "***\n",
    "\n",
    "**DPI neuronal parameters:**\n",
    "***\n",
    "\n",
    "- $Ith$: the gain factor of neuron.\n",
    "- $Itau$: the membrane time-constant of leakage current.\n",
    "- $refP$: refractory period.\n",
    "\n",
    "***\n",
    "\n",
    "**AMPA synaptic parameters:**\n",
    "***\n",
    "\n",
    "- I_tau_syn_ampa: corresponds to leakage current, i.e. how much current is constantly leaked away. It represents the time-constant of current decay.\n",
    "- I_g_syn_ampa: the gain factor of the synapse.\n",
    "\n",
    "These 2 parameters are implemented in the DYNAP-SE1 circuit. Besides, you still have `DPI_synapse.weight`. In Brian2, it's the weight of a single synapse, but in hardware reality, this corresponds to the number of physical connections you create between two silicon neurons. Thus, `DPI_synapse.weight` can only be integers.\n",
    "\n",
    "<br/>\n",
    "<br/>\n",
    "If you need more details, please feel free to check initial parameter values (and units) in file \"parameters/dynapse_param.py\".\n",
    "    \n",
    "</div>    "
   ]
  },
  {
   "cell_type": "markdown",
   "metadata": {},
   "source": [
    "### Creating a network in a \"DYNAP-SE1 chip\""
   ]
  },
  {
   "cell_type": "markdown",
   "metadata": {},
   "source": [
    "Do you remember `Network`?? Let's bring it back here. \n",
    "***\n",
    "\n",
    "**Step 1:**\n",
    "Create a **placeholder** (i.e, empty) `network` instance, we will pass it to the `DynapSE()` method to create a new `chip` instance.\n",
    "\n",
    "***"
   ]
  },
  {
   "cell_type": "code",
   "execution_count": 9,
   "metadata": {},
   "outputs": [],
   "source": [
    "network = Network()"
   ]
  },
  {
   "cell_type": "code",
   "execution_count": 10,
   "metadata": {},
   "outputs": [
    {
     "ename": "SyntaxError",
     "evalue": "Error during evaluation of sympy expression '(- Ithahp_clip - Iahp + 2*Io*(Iahp<=Io)) / (tauahp * (Ithahp_clip / Iahp + 1)) ': Relational can not be used in Mul (<string>)",
     "output_type": "error",
     "traceback": [
      "Traceback \u001b[0;36m(most recent call last)\u001b[0m:\n",
      "  File \u001b[1;32m\"/Library/Frameworks/Python.framework/Versions/3.10/lib/python3.10/site-packages/brian2/parsing/sympytools.py\"\u001b[0m, line \u001b[1;32m82\u001b[0m, in \u001b[1;35m_str_to_sympy\u001b[0m\n    s_expr = SympyNodeRenderer().render_expr(expr)\n",
      "  File \u001b[1;32m\"/Library/Frameworks/Python.framework/Versions/3.10/lib/python3.10/site-packages/brian2/parsing/rendering.py\"\u001b[0m, line \u001b[1;32m66\u001b[0m, in \u001b[1;35mrender_expr\u001b[0m\n    return self.render_node(node.body)\n",
      "  File \u001b[1;32m\"/Library/Frameworks/Python.framework/Versions/3.10/lib/python3.10/site-packages/brian2/parsing/rendering.py\"\u001b[0m, line \u001b[1;32m78\u001b[0m, in \u001b[1;35mrender_node\u001b[0m\n    return getattr(self, methname)(node)\n",
      "  File \u001b[1;32m\"/Library/Frameworks/Python.framework/Versions/3.10/lib/python3.10/site-packages/brian2/parsing/rendering.py\"\u001b[0m, line \u001b[1;32m273\u001b[0m, in \u001b[1;35mrender_BinOp\u001b[0m\n    return op(self.render_node(node.left),\n",
      "  File \u001b[1;32m\"/Library/Frameworks/Python.framework/Versions/3.10/lib/python3.10/site-packages/brian2/parsing/rendering.py\"\u001b[0m, line \u001b[1;32m78\u001b[0m, in \u001b[1;35mrender_node\u001b[0m\n    return getattr(self, methname)(node)\n",
      "  File \u001b[1;32m\"/Library/Frameworks/Python.framework/Versions/3.10/lib/python3.10/site-packages/brian2/parsing/rendering.py\"\u001b[0m, line \u001b[1;32m286\u001b[0m, in \u001b[1;35mrender_BinOp\u001b[0m\n    return op(self.render_node(node.left), self.render_node(node.right))\n",
      "  File \u001b[1;32m\"/Library/Frameworks/Python.framework/Versions/3.10/lib/python3.10/site-packages/brian2/parsing/rendering.py\"\u001b[0m, line \u001b[1;32m78\u001b[0m, in \u001b[1;35mrender_node\u001b[0m\n    return getattr(self, methname)(node)\n",
      "  File \u001b[1;32m\"/Library/Frameworks/Python.framework/Versions/3.10/lib/python3.10/site-packages/brian2/parsing/rendering.py\"\u001b[0m, line \u001b[1;32m286\u001b[0m, in \u001b[1;35mrender_BinOp\u001b[0m\n    return op(self.render_node(node.left), self.render_node(node.right))\n",
      "  File \u001b[1;32m\"/Library/Frameworks/Python.framework/Versions/3.10/lib/python3.10/site-packages/sympy/core/cache.py\"\u001b[0m, line \u001b[1;32m72\u001b[0m, in \u001b[1;35mwrapper\u001b[0m\n    retval = cfunc(*args, **kwargs)\n",
      "\u001b[0;36m  File \u001b[0;32m\"/Library/Frameworks/Python.framework/Versions/3.10/lib/python3.10/site-packages/sympy/core/operations.py\"\u001b[0;36m, line \u001b[0;32m60\u001b[0;36m, in \u001b[0;35m__new__\u001b[0;36m\u001b[0m\n\u001b[0;31m    raise TypeError(\"Relational can not be used in %s\" % cls.__name__)\u001b[0m\n",
      "\u001b[0;31mTypeError\u001b[0m\u001b[0;31m:\u001b[0m Relational can not be used in Mul\n",
      "\nDuring handling of the above exception, another exception occurred:\n",
      "Traceback \u001b[0;36m(most recent call last)\u001b[0m:\n",
      "  File \u001b[1;32m\"/Library/Frameworks/Python.framework/Versions/3.10/lib/python3.10/site-packages/IPython/core/interactiveshell.py\"\u001b[0m, line \u001b[1;32m3444\u001b[0m, in \u001b[1;35mrun_code\u001b[0m\n    exec(code_obj, self.user_global_ns, self.user_ns)\n",
      "  File \u001b[1;32m\"/var/folders/t3/v98l9wvd5v31cyynx1lwx12r0000gn/T/ipykernel_9831/3582628109.py\"\u001b[0m, line \u001b[1;32m1\u001b[0m, in \u001b[1;35m<module>\u001b[0m\n    chip = DynapSE(network)\n",
      "  File \u001b[1;32m\"/Users/tristantorchet/Desktop/MA2/NI/NI_lab2_0/DynapSE.py\"\u001b[0m, line \u001b[1;32m36\u001b[0m, in \u001b[1;35m__init__\u001b[0m\n    self.cores             = [Core(neurons_per_core, Network, name='Core_'+str(i)) for i in range(num_cores)]\n",
      "  File \u001b[1;32m\"/Users/tristantorchet/Desktop/MA2/NI/NI_lab2_0/DynapSE.py\"\u001b[0m, line \u001b[1;32m36\u001b[0m, in \u001b[1;35m<listcomp>\u001b[0m\n    self.cores             = [Core(neurons_per_core, Network, name='Core_'+str(i)) for i in range(num_cores)]\n",
      "  File \u001b[1;32m\"/Users/tristantorchet/Desktop/MA2/NI/NI_lab2_0/DynapSE.py\"\u001b[0m, line \u001b[1;32m142\u001b[0m, in \u001b[1;35m__init__\u001b[0m\n    self.neurons     = NeuronGroup(num_neurons, **dynapse_eq(), name=name)\n",
      "  File \u001b[1;32m\"/Library/Frameworks/Python.framework/Versions/3.10/lib/python3.10/site-packages/brian2/groups/neurongroup.py\"\u001b[0m, line \u001b[1;32m499\u001b[0m, in \u001b[1;35m__init__\u001b[0m\n    model = Equations(model)\n",
      "  File \u001b[1;32m\"/Library/Frameworks/Python.framework/Versions/3.10/lib/python3.10/site-packages/brian2/equations/equations.py\"\u001b[0m, line \u001b[1;32m554\u001b[0m, in \u001b[1;35m__init__\u001b[0m\n    self._equations = parse_string_equations(eqns)\n",
      "  File \u001b[1;32m\"/Library/Frameworks/Python.framework/Versions/3.10/lib/python3.10/site-packages/brian2/utils/caching.py\"\u001b[0m, line \u001b[1;32m101\u001b[0m, in \u001b[1;35mcached_func\u001b[0m\n    func._cache[cache_key] = func(*args, **kwds)\n",
      "  File \u001b[1;32m\"/Library/Frameworks/Python.framework/Versions/3.10/lib/python3.10/site-packages/brian2/equations/equations.py\"\u001b[0m, line \u001b[1;32m366\u001b[0m, in \u001b[1;35mparse_string_equations\u001b[0m\n    expression = Expression(p.sub(' ', expression))\n",
      "  File \u001b[1;32m\"/Library/Frameworks/Python.framework/Versions/3.10/lib/python3.10/site-packages/brian2/equations/codestrings.py\"\u001b[0m, line \u001b[1;32m107\u001b[0m, in \u001b[1;35m__init__\u001b[0m\n    str_to_sympy(code)\n",
      "  File \u001b[1;32m\"/Library/Frameworks/Python.framework/Versions/3.10/lib/python3.10/site-packages/brian2/parsing/sympytools.py\"\u001b[0m, line \u001b[1;32m76\u001b[0m, in \u001b[1;35mstr_to_sympy\u001b[0m\n    return _str_to_sympy(expr)\n",
      "  File \u001b[1;32m\"/Library/Frameworks/Python.framework/Versions/3.10/lib/python3.10/site-packages/brian2/utils/caching.py\"\u001b[0m, line \u001b[1;32m101\u001b[0m, in \u001b[1;35mcached_func\u001b[0m\n    func._cache[cache_key] = func(*args, **kwds)\n",
      "\u001b[0;36m  File \u001b[0;32m\"/Library/Frameworks/Python.framework/Versions/3.10/lib/python3.10/site-packages/brian2/parsing/sympytools.py\"\u001b[0;36m, line \u001b[0;32m84\u001b[0;36m, in \u001b[0;35m_str_to_sympy\u001b[0;36m\u001b[0m\n\u001b[0;31m    raise SyntaxError(f\"Error during evaluation of sympy expression \"\u001b[0m\n",
      "\u001b[0;36m  File \u001b[0;32m\"<string>\"\u001b[0;36m, line \u001b[0;32munknown\u001b[0m\n\u001b[0;31mSyntaxError\u001b[0m\u001b[0;31m:\u001b[0m Error during evaluation of sympy expression '(- Ithahp_clip - Iahp + 2*Io*(Iahp<=Io)) / (tauahp * (Ithahp_clip / Iahp + 1)) ': Relational can not be used in Mul\n"
     ]
    }
   ],
   "source": [
    "chip = DynapSE(network)"
   ]
  },
  {
   "cell_type": "markdown",
   "metadata": {},
   "source": [
    "***\n",
    "\n",
    "**Step 2:** Simulate a simple network, here are sequence of steps but you can do as you like as well.\n",
    "***\n",
    "\n",
    "**A:** Allocate a single neuron from the *any* core of DYNAP-SE1. Hint: use `get_neurons` from `DynapSE`. Syntax is provided for your convinence. `chip.get_neurons`\n",
    "\n",
    "**B:** Send a single spike via the synapse. You can use `SpikeGeneratorGroup` from Brian2.\n",
    "\n",
    "**C:** Define an AMPA synapse to connection a spike generator to this neuron. Hint: use `add_connection` from `DynapSE` and `connect` from Brian2.\n",
    "\n",
    "**D:** Create a state monitor to monitor the output firing rate of the neuron. Use `StateMonitor` with **I_syn_ampa** as to_record variable.\n",
    "\n",
    "**E:** Finally, add all the components into the `Network`.\n",
    "\n",
    "**F:** Ofcourse, don't forget to simulate the network. Hint: use `network.run()`\n",
    "\n",
    "**G:** One last thing, Plot the output current of AMPA synapse that enters to neuron. That's why we observed *I_syn_ampa*\n",
    "\n",
    "Remember, this network is still running on your machine but the dynamics are similar to our neuromorphic chip \n",
    "***\n",
    "\n",
    "<p style=\"color:red;font-size:20px;\"> \n",
    "Attention!! Simulate for a very small time period, things can go extreamly slow. ~ 50ms is recommended\n",
    " </p>\n"
   ]
  },
  {
   "cell_type": "code",
   "execution_count": 7,
   "metadata": {},
   "outputs": [
    {
     "ename": "NameError",
     "evalue": "name 'chip' is not defined",
     "output_type": "error",
     "traceback": [
      "\u001b[0;31m---------------------------------------------------------------------------\u001b[0m",
      "\u001b[0;31mNameError\u001b[0m                                 Traceback (most recent call last)",
      "\u001b[0;32m/var/folders/t3/v98l9wvd5v31cyynx1lwx12r0000gn/T/ipykernel_9831/1835299163.py\u001b[0m in \u001b[0;36m<module>\u001b[0;34m\u001b[0m\n\u001b[1;32m      8\u001b[0m \u001b[0mcore_name\u001b[0m \u001b[0;34m=\u001b[0m \u001b[0;34m'Core_1'\u001b[0m \u001b[0;31m# which core, Core_#z\u001b[0m\u001b[0;34m\u001b[0m\u001b[0;34m\u001b[0m\u001b[0m\n\u001b[1;32m      9\u001b[0m \u001b[0mneuron_num\u001b[0m \u001b[0;34m=\u001b[0m \u001b[0;36m1\u001b[0m \u001b[0;31m# how many neuron\u001b[0m\u001b[0;34m\u001b[0m\u001b[0;34m\u001b[0m\u001b[0m\n\u001b[0;32m---> 10\u001b[0;31m \u001b[0mDPI_neuron\u001b[0m  \u001b[0;34m=\u001b[0m \u001b[0mchip\u001b[0m\u001b[0;34m.\u001b[0m\u001b[0mget_neurons\u001b[0m\u001b[0;34m(\u001b[0m\u001b[0mneuron_num\u001b[0m\u001b[0;34m,\u001b[0m \u001b[0mcoure_name\u001b[0m\u001b[0;34m)\u001b[0m\u001b[0;34m\u001b[0m\u001b[0;34m\u001b[0m\u001b[0m\n\u001b[0m\u001b[1;32m     11\u001b[0m \u001b[0;34m\u001b[0m\u001b[0m\n\u001b[1;32m     12\u001b[0m \u001b[0;31m# Connect the spike generator to the neuron using AMPA synapse\u001b[0m\u001b[0;34m\u001b[0m\u001b[0;34m\u001b[0m\u001b[0m\n",
      "\u001b[0;31mNameError\u001b[0m: name 'chip' is not defined"
     ]
    }
   ],
   "source": [
    "# ADD a Brian2 spikeGenerator and send 1 spike at 0th second\n",
    "indices = [0]\n",
    "times = [0]*second\n",
    "\n",
    "spike_generator = SpikeGeneratorGroup(1, indices, times) \n",
    "\n",
    "# Allocate single neuron from Core 1\n",
    "core_name = 'Core_1' # which core, Core_#z\n",
    "neuron_num = 1 # how many neuron\n",
    "DPI_neuron  = chip.get_neurons(neuron_num, coure_name)\n",
    "\n",
    "# Connect the spike generator to the neuron using AMPA synapse \n",
    "DPI_synapse = chip.add_connection(spike_generator, DPI_neuron, synapse_type='AMPA')\n",
    "\n",
    "# In Brian2 creating a Synapses instance does not create synapses, it only specifies their dynamics.\n",
    "# so remember to call connect function to really build the connection\n",
    "chip.connect(DPI_synapse, True)\n",
    "\n",
    "# here we set an initial weight of 200.\n",
    "DPI_synapse.weight = 200 # set your weight, try using 200 "
   ]
  },
  {
   "cell_type": "code",
   "execution_count": null,
   "metadata": {},
   "outputs": [],
   "source": [
    "# monitors\n",
    "mon_synapse_state = StateMonitor(...object to monitor..., ...variable to monitor..., record=[0])\n",
    "mon_neuron_input  = SpikeMonitor(...object to monitor...,, name='mon_neuron_input')\n",
    "\n",
    "# add all the instances into the network\n",
    "network.add([...add elements here...])"
   ]
  },
  {
   "cell_type": "code",
   "execution_count": null,
   "metadata": {},
   "outputs": [],
   "source": [
    "# Simulate for 50 ms\n",
    "duration = 50 * ms\n",
    "network.run(.....)"
   ]
  },
  {
   "cell_type": "code",
   "execution_count": null,
   "metadata": {},
   "outputs": [],
   "source": [
    "# Plot change in current vs time, for a period of 0-10 ms\n",
    "s = int(1*ms / defaultclock.dt)\n",
    "tstart = 0 # ms \n",
    "tend   = 10 # ms\n",
    "plt.figure(figsize=(4,2), dpi=150)\n",
    "# todo\n",
    "plt.plot(...read time...,...read value of current..)\n",
    "plt.legend(['$I_{syn}$'])\n",
    "plt.title('Synaptic Current')\n",
    "plt.ylabel('Current (A)')\n",
    "plt.xlabel('Time (ms)')\n",
    "plt.grid(True)"
   ]
  },
  {
   "cell_type": "code",
   "execution_count": null,
   "metadata": {},
   "outputs": [],
   "source": [
    "# Input Spikes, for verification \n",
    "times = int(duration/ms)\n",
    "\n",
    "spike_placeholder = np.zeros(times)\n",
    "spike_placeholder[np.array(mon_neuron_input.t/ms, dtype=int)]=1\n",
    "plt.plot(spike_placeholder,'k|')\n",
    "matplotlib.pyplot.yticks(range(1, 3))\n",
    "plt.ylim(0.5, 1.5)\n",
    "plt.title('Input Spikes')\n",
    "plt.ylabel('Neuron ID')"
   ]
  },
  {
   "cell_type": "markdown",
   "metadata": {},
   "source": [
    "What's the time constant of the AMPA synapse? Remember what you learned in the lecture? AMPA is a fast excitatory synapse.\n",
    "\n",
    "\n",
    "<div class=\"alert alert-block alert-success\">\n",
    "    \n",
    "<b>Answer the following as a Markdown cell</b>. \n",
    "- AMPA is excitatory synapse: True/False?\n",
    "- What's the time constant of the AMPA synapse? \n",
    "- Is AMPA a slow or fast synapse.\n",
    "</div>\n",
    "\n",
    "***\n",
    "**Add your answers here**\n",
    "***\n",
    "\n"
   ]
  },
  {
   "cell_type": "markdown",
   "metadata": {},
   "source": [
    "### Simulation with Poisson input\n",
    "***\n",
    "\n",
    "**Step 3:** Re-run your network for a Poisson input at 100 Hz, and check the output firing rate of the neuron.Simulate for 3 seconds, and check the firing rate of the neuron.\n",
    "\n",
    "***\n",
    "<b>A: Monitor the following neurons </b>\n",
    "- I_syn_ampa\n",
    "- Imem\n",
    "- and record input and output spikes\n",
    "\n",
    "<b>B: Plot Input spikes, membrane current, and output spikes to understand the neuron's response.</b>\n",
    "\n",
    "<b>C: Feel free to adjust weight of your synapse\n",
    "    \n",
    "    \n",
    "***\n",
    "    \n",
    "    \n",
    "<div class=\"alert alert-block alert-info\">\n",
    "\n",
    "***\n",
    "**Bias Generator (BiasGen)**\n",
    "***\n",
    "**Usage :** It enables a user to adjust neuron and synapse parameters. For instance, membrane time constant.\n",
    "\n",
    "**How it works? :** BiasGen is a configurable current generator that biases the gate voltage of specific transistors on the chip to generate the desired currents.\n",
    "\n",
    "***\n",
    "In the next exercise, we will tune parameter for AMPA synapse and neuron, to achieve the desired output firing rate.\n",
    "***\n",
    "    \n",
    "</div>    \n",
    "    \n",
    "***   \n",
    "    \n",
    "**Did the neuron you created last time have any spike activity at 100 Hz Input?**\n",
    "    \n",
    "***\n",
    "If yes,\n",
    "\n",
    "- What were the Neuron and Synapse parameter you set? (also, weight (or number of connections ))\n",
    "    \n",
    "- What was the firing rate?  \n",
    "    \n",
    "For either yes or no,\n",
    "\n",
    "**[Step 4]:** What parameter would you change to increase/decrease the firing rate?\n",
    "    Try modifying `I_tau_syn_ampa` and `I_g_syn_ampa`\n",
    "\n",
    "**Syntax:** `chip.set_bias(param_dict,core_name)`\n",
    "***\n",
    "   **Goal: Feel free to change the values and see what happen. If you like, you can also plot FF curve.** \n",
    "***\n",
    "\n",
    "**[Step 5]:** Set `I_tau_syn_nmda` as $30pA$, and `I_g_syn_nmda` as $150pA$.\n",
    "    \n",
    "**[Step 6]:**    Plot input Spike, output spike, membare current and synaptic current. Weight as 300 should lead to ~10-12 Hz firing rate.\n",
    "    \n",
    "\n",
    "**[IMPORTANT TIP!!!]** Set seed value to get consistent. Hint: `seed(4321)` "
   ]
  },
  {
   "cell_type": "markdown",
   "metadata": {},
   "source": [
    "## AMPA Synapse"
   ]
  },
  {
   "cell_type": "code",
   "execution_count": null,
   "metadata": {},
   "outputs": [],
   "source": [
    "# Add code here\n",
    "# to start a new build to run multiple full simulations\n",
    "device.reinit()\n",
    "device.activate()\n",
    "# need to reset the defaultclock after activate\n",
    "defaultclock.dt = 20 * us\n",
    "\n",
    "network = Network()\n",
    "chip = DynapSE(network)\n",
    "seed(4321)\n",
    "# Create a poisson spike generator with 100 Hz\n",
    "spike_generator = PoissonGroup(1, 200*Hz)\n",
    "# Allocate single neuron from Core 1\n",
    "DPI_neuron  = chip.get_neurons(1, 'Core_1')\n",
    "DPI_neuron.Iconst = 0 * pA \n",
    "# Define an AMPA synapse to connect the spike generator to the neuron \n",
    "DPI_synapse = chip.add_connection(spike_generator,DPI_neuron, synapse_type=@add synapse type here)\n",
    "# In Brian2 creating a Synapses instance does not create synapses, it only specifies their dynamics.\n",
    "# so remember to call connect function to really build the connection\n",
    "chip.connect(DPI_synapse, True)\n",
    "\n",
    "# here we set an initial weight of 200.\n",
    "DPI_synapse.weight = 300 # number of synapse and not weight\n",
    " \n",
    "#ampa_conf = {\"@set parameter type\": @set value here * pA, \"@set parameter type\": @set value here * pA}\n",
    "ampa_conf = {\"I_tau_syn_ampa\": 30 * pA, \"I_g_syn_ampa\": 150 * pA}\n",
    "\n",
    "#chip.set_bias(...@add code here..., ...@add code here...)\n",
    "chip.set_bias(ampa_conf, 'Core 1')\n",
    "\n",
    "\n",
    "# monitors\n",
    "#mon_synapse_state = StateMonitor(@record synapse, '@record I_syn for ampa', record=[0]) # it's not I_syn_exc2\n",
    "mon_synapse_state = StateMonitor(DPI_synapse, '@record I_syn for ampa', record=[0]) # it's not I_syn_exc2\n",
    "#mon_neuron_state  = StateMonitor(@record neuron,  '@record I_mem for neuron', record=True)\n",
    "mon_neuron_state  = StateMonitor(DPI_neuron,  '@record I_mem for neuron', record=True)\n",
    "#mon_neuron_input  = SpikeMonitor(spike_generator, name='mon_neuron_input')\n",
    "mon_neuron_input  = SpikeMonitor(spike_generator, name='mon_neuron_input')\n",
    "#mon_neuron_output = SpikeMonitor(DPI_neuron, name='mon_neuron_output')\n",
    "mon_neuron_output = SpikeMonitor(DPI_neuron, name='mon_neuron_output')\n",
    "\n",
    "# add all the instances into the network \n",
    "network.add([spike_generator, DPI_neuron, DPI_synapse, \n",
    "             mon_synapse_state, mon_neuron_state, mon_neuron_input, mon_neuron_output])\n",
    "\n",
    "# Simulation\n",
    "duration = .5 * second\n",
    "network.run(duration)\n",
    "print('Output firing rate = ', mon_neuron_output.count/ (duration))"
   ]
  },
  {
   "cell_type": "markdown",
   "metadata": {},
   "source": [
    "Let's calculate the output firing rate of the neuron."
   ]
  },
  {
   "cell_type": "code",
   "execution_count": null,
   "metadata": {},
   "outputs": [],
   "source": [
    "# plotting\n",
    "plt.figure(figsize=(16,5),dpi=150)\n",
    "plt.subplots_adjust(hspace=.5)\n",
    "\n",
    "times = int(duration/ms)\n",
    "\n",
    "# Input Spikes \n",
    "plt.subplot(311)\n",
    "spike_placeholder = np.zeros(times)\n",
    "spike_placeholder[np.array(mon_neuron_input.t/ms, dtype=int)]=1\n",
    "plt.plot(spike_placeholder,'k|')\n",
    "matplotlib.pyplot.yticks(range(1, 3))\n",
    "plt.ylim(0.5, 1.5)\n",
    "plt.title('Input Spikes')\n",
    "plt.ylabel('Neuron ID')\n",
    "#plt.xlabel('Time (ms)')\n",
    "\n",
    "plt.subplot(312)\n",
    "Imem = mon_neuron_state.Imem[0]\n",
    "plt.plot(mon_neuron_state.t/ms, Imem/pA)\n",
    "\n",
    "plt.title('Neuron Membrane Current')\n",
    "plt.ylabel('Current (A)')\n",
    "#plt.xlabel('Time (ms)')\n",
    "\n",
    "plt.subplot(313)\n",
    "spike_placeholder = np.zeros(times)\n",
    "spike_placeholder[np.array(mon_neuron_output.t/ms, dtype=int)]=1\n",
    "plt.plot(spike_placeholder,'k|')\n",
    "matplotlib.pyplot.yticks(range(1, 3))\n",
    "plt.ylim(0.5, 1.5)\n",
    "plt.title('Neuron Output Spikes')\n",
    "plt.ylabel('Neuron ID')\n",
    "plt.xlabel('Time (ms)')\n",
    "plt.show()"
   ]
  },
  {
   "cell_type": "code",
   "execution_count": null,
   "metadata": {},
   "outputs": [],
   "source": [
    "plt.figure(figsize=(16,1),dpi=150)\n",
    "\n",
    "I_syn_ampa = mon_synapse_state.I_syn_ampa[0]\n",
    "plt.plot(mon_synapse_state.t/ms, I_syn_ampa)\n",
    "\n",
    "plt.title('Syn Membrane Current')\n",
    "plt.ylabel('Current (A)')"
   ]
  },
  {
   "cell_type": "markdown",
   "metadata": {},
   "source": [
    "Printing values for a few constant"
   ]
  },
  {
   "cell_type": "code",
   "execution_count": null,
   "metadata": {},
   "outputs": [],
   "source": [
    "display(DPI_neuron.Ith)\n",
    "display(DPI_neuron.Itau)\n",
    "display(DPI_neuron.refP)\n",
    "display(DPI_synapse.I_tau_syn_ampa)\n",
    "display(DPI_synapse.I_g_syn_ampa)"
   ]
  },
  {
   "cell_type": "markdown",
   "metadata": {},
   "source": [
    "# NMDA Synapse"
   ]
  },
  {
   "cell_type": "markdown",
   "metadata": {},
   "source": [
    "<div class=\"alert alert-block alert-info\">\n",
    "\n",
    "**Do you know the difference between AMPA and NMDA?**\n",
    "    \n",
    "</div>   \n",
    "\n",
    "This tutorial explores the behavior of the DPI Slow synapse, which emulates the NMDA-like voltage-gated channels.\n",
    "\n",
    "<img src=\"img/synapse.png\" alt=\"Synapse circuit.\" style=\"width: 400px;\">\n",
    "\n",
    "The above schematic shows a typical silicon synapse circuit implemented on Dynap-SE1. As mentioned in Part1, the green and yellow blocks can be modeled with the following equation:\n",
    "\n",
    "$$\\tau \\frac{d}{d t} I_{s y n}(t)+I_{s y n}(t)=I_{w} \\delta\\left(t_{p r e}\\right)$$\n",
    "\n",
    "where $I_{s y n}$ is the synaptic current, $I_{w}$ is the gain factor (weight) of the synapse, and $\\tau$ is time constant of current decay.\n",
    "\n",
    "These blocks are used to mimic the fast AMPA-like dynamics, with: \n",
    "\n",
    "$$ I_{s y n,ampa}=I_{s y n}$$\n",
    "\n",
    "The DPI Slow synapse, instead, includes both the DPI circuit (green and yellow blocks) and the **differential pair (DP)** circuit (red block), which implements the NMDA-like voltage-gated channels. The output of the DP block, $I_{syn, nmda}$, is the EPSC of the NMDA-like synpse, and can be modeled as follows:\n",
    "\n",
    "$$ I_{syn,nmda}(t) =  \\frac{I_{syn}(t)}{1 + exp(\\frac{k_n (V_{nmda}-V_{mem})}{U_T})} = I_{s y n} \\frac{1}{1+\\frac{I_{nmda}}{I_{mem}}}$$\n",
    "\n",
    "where $I_{syn}$ is the DPI output current (and input to the DP), $V_{mem}$ is the voltage across the neuron’s membrane capacitance $C_{mem}$:\n",
    "\n",
    "$$ V_{mem} = \\frac{U_T}{\\kappa} log(\\frac{I_{mem}}{I_o})$$\n",
    "\n",
    "and: \n",
    "\n",
    "$$I_{nmda}=I_o e^\\frac{\\kappa V_{nmda}}{U_T}$$\n",
    "\n",
    "***\n",
    "***\n",
    "\n",
    "**[Step 7]:** Keeping all the parameter same as **Step 5** , change the  synapse type to NMDA. \n",
    "\n",
    "In addition to `I_tau_syn` and `I_g_syn` also set `Vnmda` to $80mV$ and `Iconst` as  $60 pA$.\n",
    "\n",
    "**[Step 8]:** Use `DPI_synapse.Inmda.get_item(0)` to check **Inmda**. Also can be computed using  `Inmda = Io*exp(kappa*Vnmda/Ut)` \n",
    "\n",
    "**[Step 9]:** Simulate for 100 ms.\n",
    "\n",
    "**[Step 10]:** Plot input Spike, output spike, membare current and synaptic current. Weight as 300 should lead to **No** firing activity. In addition, add a hline at *Inmda* value, on membare current plot.\n",
    "\n",
    "**[Step 11]:** If the neuron is firing in Step 9. Adjust the value of `Vnmda` to make it silent. Or make `Iconst` (dc injection) lower. \n",
    "\n",
    "***\n",
    "   **Goal: Test and understand the mechanism of voltage gating.** \n",
    "\n",
    "<p style=\"color:blue;font-size:15px;\"> \n",
    "    <b>[BONUS]</b> You can try to AB vs BA response as shown in the class. \"Symbol A\" is deliverd via AMPA and  \"Symbol B\" is deliverd via NMDA. This would need some fine tuning of parameters but you know them all by now. </p>\n",
    "   \n",
    "***\n",
    "\n"
   ]
  },
  {
   "cell_type": "code",
   "execution_count": 1,
   "metadata": {},
   "outputs": [],
   "source": [
    "# Add code here"
   ]
  },
  {
   "cell_type": "markdown",
   "metadata": {},
   "source": [
    "# Subtractive Inhibition (GABA_B)\n",
    "  \n",
    "\n",
    "**[Step 12]:** **Repeat for GABA_B**"
   ]
  },
  {
   "cell_type": "code",
   "execution_count": 1,
   "metadata": {},
   "outputs": [],
   "source": [
    "# Add code here"
   ]
  },
  {
   "cell_type": "markdown",
   "metadata": {},
   "source": [
    "#  Spike frequency adaptation of DPI Neurons"
   ]
  },
  {
   "cell_type": "markdown",
   "metadata": {},
   "source": [
    "\n",
    "In neuroscience, spike-frequency adaptation is defined as reducing a neuron's firing rate to a stimulus of constant intensity. Hence, when stimulated with a constant stimulus, many neurons initially respond with a high spike frequency that decays down to a lower steady-state frequency. Do you remember when a smell seems to be fading after you get used to it? Yeah, this can be implemented with spike-frequency adaptation.\n",
    "\n",
    "There are several mechanisms by which neurons can adapt to new stimulus statistics; for example, neurons can change their time constants or other neurons suppress its firing rate via feedback inhibition. Usually, these processes are slower than the dynamics of action potential generation.\n",
    "\n",
    "In our silicon neurons, the spike-frequency adaptation mechanism is implemented by an additional DPI filter that models the neuron's Calcium conductance that produces the after-hyper-polarizing current $I_{ahp}$, which is proportional to the neuron's mean ﬁring rate. There are two parameters on the chip to tune the strength of spike-frequency adaptation (don't forget, this is a DPI circuit). The rest will be taken care of by the physics of the silicon:\n",
    "\n",
    "- $I_{tauahp}$ : Leakage current for spike-frequency adaptation (how fast the adaptation)\n",
    "- $I_{thahp}$   : Threshold for spike-frequency adaptation (strength of the adaptation)"
   ]
  },
  {
   "cell_type": "markdown",
   "metadata": {},
   "source": [
    "***\n",
    "**[Step 13]** In addition to synpase parameter(use AMPA), also set `Itauahp and Ithahp`\n",
    "\n",
    "Now, we are going to monitor input-output spikes, membrane current, and the adaptation current. If you set up spike-adaptation currents correctly, you will see that the neuron firing rate will decrease in the presence of a constant input rate. Nevertheless, we have to warn you, tuning spike-frequency is a bit tricky, and its effect is visible with only a small set of parameters.\n",
    "\n",
    "**[Step 14]:** Record `Iahp` in addition to input-output spikes and I_mem\n",
    "\n",
    "\n",
    "***"
   ]
  },
  {
   "cell_type": "code",
   "execution_count": null,
   "metadata": {},
   "outputs": [],
   "source": [
    "device.reinit()\n",
    "device.activate()\n",
    "defaultclock.dt = 20 * us\n",
    "\n",
    "## Observing Adaptation Effect\n",
    "##################\n",
    "# TODO: Play with Itauahp and Ithahp currents to observe a spike-frequency adaptation\n",
    "#\n",
    "#\n",
    "# Parameters\n",
    "pulse_start  = 1     # second - Start timing of pulse\n",
    "pulse_stop   = 4     # second - Stop timing of pulse\n",
    "inp_duration = 5     # second - Simulation duration\n",
    "firing_rate  = 150   # Hz - Firing rate of the source\n",
    "\n",
    "adaptation_conf = {\"Itauahp\": 10 * pA,             \n",
    "                   \"Ithahp\": 10 * pA} \n",
    "##################\n",
    "\n",
    "# Create a regular spiking pattern\n",
    "spikes = np.zeros(inp_duration*1000)\n",
    "dt = int(1000/firing_rate)\n",
    "spikes[pulse_start*1000:pulse_stop*1000:dt] = 1.0\n",
    "spike_timing = np.where(spikes==1)[0] * ms\n",
    "neuron_indices = np.zeros(len(spike_timing))\n",
    "input_spike_generator = SpikeGeneratorGroup(1, indices=neuron_indices, times=spike_timing, name='InpSpikeGenerator')    \n",
    "\n",
    "# Create a Brian2 network and chip instance using that monitors DynapSE resources.\n",
    "network = Network()\n",
    "chip = DynapSE(network)\n",
    "\n",
    "# Connect a single spike generator to a single DPI neuron \n",
    "DPI_neuron  = chip.get_neurons(1, 'Core_1')\n",
    "DPI_synapse = chip.add_connection(input_spike_generator, DPI_neuron, synapse_type='AMPA')\n",
    "chip.connect(DPI_synapse, True)\n",
    "DPI_synapse.weight = 500\n",
    "\n",
    "ampa_conf = {\"I_tau_syn_ampa\": 10 * pA,\n",
    "            \"I_g_syn_ampa\": 10 * pA}\n",
    "\n",
    "# Using paramGen, set adaptation configurations for Core #1\n",
    "# In DynapSE, parames are set per Core.\n",
    "\n",
    "adaptation_conf = {\"Itauahp\": 0.04 * pA,            \n",
    "                   \"Ithahp\": 0.05 * pA}\n",
    "\n",
    "# merge the param dict into 1.\n",
    "core_conf = {**ampa_conf, **adaptation_conf}\n",
    "# set the params\n",
    "chip.set_bias(core_conf, 'Core_1')\n",
    "\n",
    "# Monitors\n",
    "mon_neuron_input  = SpikeMonitor(input_spike_generator, name='mon_neuron_input')\n",
    "mon_neuron_output = SpikeMonitor(DPI_neuron, name='mon_neuron_output')\n",
    "mon_adapt_state  = StateMonitor(DPI_neuron,  'Iahp', record=True)\n",
    "mon_mem_state  = StateMonitor(DPI_neuron,  'Imem', record=True)\n",
    "network.add([input_spike_generator, DPI_neuron, DPI_synapse, mon_neuron_input, mon_neuron_output,mon_adapt_state,mon_mem_state])\n",
    "\n",
    "# Simulation\n",
    "network.run(inp_duration * 1000 * ms)"
   ]
  },
  {
   "cell_type": "code",
   "execution_count": null,
   "metadata": {},
   "outputs": [],
   "source": [
    "##################\n",
    "#  TODO: Change tstart and tend to find the time window that shows spike-frequency adaptation.\n",
    "#\n",
    "# Parameters\n",
    "tstart = 950 # ms - \n",
    "tend   = 1500 # ms -\n",
    "##################\n",
    "\n",
    "\n",
    "# Plotting\n",
    "spike_placeholder = np.zeros(inp_duration*1000)\n",
    "spike_placeholder[np.array(mon_neuron_input.t/ms, dtype=int)]=2\n",
    "\n",
    "spike_placeholder2 = np.zeros(inp_duration*1000)\n",
    "spike_placeholder2[np.array(mon_neuron_output.t/ms, dtype=int)]=3\n",
    "\n",
    "s = int(1*ms / defaultclock.dt)\n",
    "fig, ax1 = plt.subplots()\n",
    "\n",
    "ax1.set_xlabel('Time (ms)')\n",
    "ax1.plot(spike_placeholder,'k.')\n",
    "plt.yticks(np.arange(1, 5), ['a','Input Spikes','Output Spikes','d'])\n",
    "ax1.tick_params(axis='y')\n",
    "plt.ylim(1.5, 3.5)\n",
    "plt.xlim(tstart,tend)\n",
    "ax2 = ax1.twinx()  \n",
    "ax1.plot(spike_placeholder2,'k.')\n",
    "\n",
    "ax2.set_ylabel('Adaptation Current (A)', color='r')  \n",
    "ax2.plot(mon_adapt_state.t/ms, mon_adapt_state.Iahp[0], linewidth=1.5,color='r')\n",
    "ax2.tick_params(axis='y', labelcolor='r')\n",
    "plt.xlim(tstart,tend)\n",
    "\n",
    "\n",
    "fig.tight_layout()\n",
    "plt.grid(True)\n",
    "\n",
    "ax2.plot(mon_mem_state.t/ms, mon_mem_state.Imem[0], linewidth=1.5, color='g')\n",
    "plt.legend(['$I_{ahp}$','$I_{mem}$','c'])\n",
    "plt.show()"
   ]
  }
 ],
 "metadata": {
  "kernelspec": {
   "display_name": "Python 3 (ipykernel)",
   "language": "python",
   "name": "python3"
  },
  "language_info": {
   "codemirror_mode": {
    "name": "ipython",
    "version": 3
   },
   "file_extension": ".py",
   "mimetype": "text/x-python",
   "name": "python",
   "nbconvert_exporter": "python",
   "pygments_lexer": "ipython3",
   "version": "3.10.0"
  },
  "toc": {
   "base_numbering": 1,
   "nav_menu": {},
   "number_sections": true,
   "sideBar": true,
   "skip_h1_title": false,
   "title_cell": "Table of Contents",
   "title_sidebar": "Contents",
   "toc_cell": true,
   "toc_position": {},
   "toc_section_display": true,
   "toc_window_display": true
  }
 },
 "nbformat": 4,
 "nbformat_minor": 4
}
