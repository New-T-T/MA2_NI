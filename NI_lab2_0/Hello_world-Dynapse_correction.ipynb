{
 "cells": [
  {
   "cell_type": "markdown",
   "metadata": {
    "toc": true
   },
   "source": [
    "<h1>Table of Contents<span class=\"tocSkip\"></span></h1>\n",
    "<div class=\"toc\"><ul class=\"toc-item\"><li><span><a href=\"#Meeting-silicon-neuron-for-the-first-time!-Hello-Neuron\" data-toc-modified-id=\"Meeting-silicon-neuron-for-the-first-time!-Hello-Neuron-1\"><span class=\"toc-item-num\">1&nbsp;&nbsp;</span>Meeting silicon neuron for the first time! Hello Neuron</a></span><ul class=\"toc-item\"><li><span><a href=\"#Import-libraries\" data-toc-modified-id=\"Import-libraries-1.1\"><span class=\"toc-item-num\">1.1&nbsp;&nbsp;</span>Import libraries</a></span></li><li><span><a href=\"#Creating-a-network-in-a-&quot;DYNAP-SE1-chip&quot;\" data-toc-modified-id=\"Creating-a-network-in-a-&quot;DYNAP-SE1-chip&quot;-1.2\"><span class=\"toc-item-num\">1.2&nbsp;&nbsp;</span>Creating a network in a \"DYNAP-SE1 chip\"</a></span></li><li><span><a href=\"#Simulation-with-Poisson-input\" data-toc-modified-id=\"Simulation-with-Poisson-input-1.3\"><span class=\"toc-item-num\">1.3&nbsp;&nbsp;</span>Simulation with Poisson input</a></span></li></ul></li></ul></div>"
   ]
  },
  {
   "cell_type": "markdown",
   "metadata": {},
   "source": [
    "# Introduction to DYNAP-SE\n",
    "\n",
    "By [Jingyue Zhao](https://www.ini.uzh.ch/fw1/modules/ini/ini.php/people/jzhao), [Elisa Donati](https://www.ini.uzh.ch/fw1/modules/ini/ini.php/people/elisa) and \n",
    "[Giacomo Indiveri](https://www.ini.uzh.ch/fw1/modules/ini/ini.php/people/giacomo) \n",
    "\n",
    "In this exercise we will learn how to set up a **neuron** and a **synapse**, connect them and form a **network**, and monitor the electrical signals at various stages in the chip simulator. "
   ]
  },
  {
   "cell_type": "markdown",
   "metadata": {},
   "source": [
    "***\n",
    "#### Differential Pair Integrator (DPI)\n",
    "\n",
    "---\n",
    "\n",
    "\n",
    "The computational principles of the brain are vastly different from conventional computers. Rather than using Boolean logic, clocked operation, and distinct memory and processing units, the biological brain works at massively parallel, fault-tolerant, asynchronous manner. In neuromorphic engineering, we aim to design compact, energy-efficient computational devices that directly _emulate_ the style of computation of the brain with **the physics of the silicon.** To achieve that, we use analog Complementary Metal-Oxide-Semiconductor (CMOS) technology to implement neural and synaptic circuits and integrate into Very Large Scale Integration (VLSI) devices. In these architectures, time represents itself (no clock) - neurons process the incoming spikes as they arrive and produce output spikes in real-time. Consequently, to process real-world sensory signals efficiently, neuromorphic systems must use circuits with biologically plausible time constants that match environment statistics ($\\sim 10-100$ ms). \n",
    "\n",
    "<img src=\"img/DPI_advanced.png\" alt=\"DPI circuit.\" style=\"width: 450px;\">\n",
    "\n",
    "DPI circuit shown above is the fundamental building block to implement silicon neurons and synapses with tunable time-constants. It is totally fine if you do not understand how it works from the circuit diagram right away. The essence is that it has the response dynamics (the relation of input current $I_{i n}$ and output current $I_{out}$) of\n",
    "\n",
    "$$\\tau \\frac{d}{d t} I_{o u t}+I_{o u t}=\\frac{I_{g}}{I_{\\tau}} I_{i n},$$\n",
    "\n",
    "where $\\tau \\triangleq C U_{T} / \\kappa I_{\\tau}$ ($C$ the capacitor, $U_T$ thermal voltage, $\\kappa$ subthreshold slope factor). DPI circuit can be tuned by adjusting the time constant, $I_{\\tau}$, and the gain factor by $I_{g}$. Hence DPI is simply a current-mode low pass filter with adjustable gain and time-constant. This will be the building block of silicon neurons and synapses.\n",
    "\n",
    "#### Silicon Neuron\n",
    "\n",
    "<img src=\"img/neuron.png\" alt=\"Neuron circuit.\" style=\"width: 400px;\">\n",
    "\n",
    "The above schematic shows the neuron circuit implementing Adaptive Exponential Integrate & Fire (AdEx) on Dynap-SE1. AdEx neurons are introduced by [Brette and Gerstner, 2005](https://www.readcube.com/library/a457847f-fdff-4d66-a32a-b3830a010b34:72216f6a-1527-440d-b775-be66fa7085a1) that capable of describing known neuronal firing patterns, e.g., adapting, bursting, delayed spike initiation, initial bursting, fast-spiking, and regular spiking. We will not go into detail of circuit analysis but describe the functional blocks. The yellow block is the input DPI circuit modeling neuron's leak conductance. The green block implements an additional low-pass ﬁlter that integrates the spikes and produces a slow current $I_{ahp}$ responsible for spike-frequency adaptation. The red block is a spike event generation amplifier implementing current-based positive feedback (modeling both $Na^{+}$ activation and inactivation conductances) and produces address-events at extremely low-power operation. Lastly, the blue block resets the neuron and keeps it in a resting state for a refractory period, set by the $V_{ref}$ bias voltage. Under some assumptions, the response dynamics of neuron block is:\n",
    "\n",
    "$$\\tau \\frac{d}{d t} I_{m e m}+I_{m e m} \\approx I_{i n}-I_{a h p}+f\\left(I_{m e m}\\right)$$\n",
    "$$\\tau_{a h p} \\frac{d}{d t} I_{a h p}+I_{a h p} \\approx I_{a h p} \\delta\\left(t_{s p i k e}\\right)$$\n",
    "\n",
    "\n",
    "Here, $I_{m e m}$ is the sub-threshold current that represents the real neuron's membrane potential variable, $I_{i n}$ is the input current that enters the neuron, $I_{a h p}$ characterizes the spike adaptation effect, $\\tau$ is the time-constant of leakage current. $f(x)$ is an exponential function with positive exponent which characterizes the passive properties, i.e. $f(x) = \\alpha e^{ \\beta x - \\gamma} + \\delta$.\n",
    "\n",
    "#### Silicon Synapse\n",
    "\n",
    "\n",
    "<img src=\"img/synapse.png\" alt=\"Synapse circuit.\" style=\"width: 400px;\">\n",
    "\n",
    "Lastly, the above schematic shows a typical silicon synapse circuit implemented on Dynap-SE1. The green block implements short-term depression (STD). The yellow block implements basic DPI dynamics and can be tuned to implement short-term facilitation (STF). The red block implements NMDA voltage-gated channels, and the blue block implements conductance-based voltage dependence. The simplified version of the response dynamics of the synaptic block is:\n",
    "\n",
    "$$\\tau \\frac{d}{d t} I_{s y n}(t)+I_{s y n}(t)=I_{w} \\delta\\left(t_{p r e}\\right)$$\n",
    "where $I_{s y n}$ is the synaptic current, $I_{w}$ is the gain factor (weight) of the synapse, and $\\tau$ is time constant of current decay.\n",
    "\n",
    "For more detailed explanations of neural and synaptic circuits (and especially the derivations and the assumptions behind the formulas mentioned) you can check [PDF available on arXiv.](https://arxiv.org/pdf/1403.6428.pdf)\n",
    "\n",
    ">Chicca, E., Stefanini, F., Bartolozzi, C., Indiveri, G. (2014). Neuromorphic Electronic Circuits for Building Autonomous Cognitive Systems Proceedings of the IEEE  102(9), 1367-1388.\n",
    "\n"
   ]
  },
  {
   "cell_type": "markdown",
   "metadata": {},
   "source": [
    "<div class=\"alert alert-block alert-info\">\n",
    "\n",
    "As mentioned in previous session, our group has already implemented the neural and synaptic circuit models that DYNAP-SE1 uses on Brian2. Therefore, you don't have to worry about it's computational details.\n",
    "\n",
    "If you want to have a look: Please feel free to wander around in the repository and dive into it's details later after you are done with the exercise\n",
    "</div>    "
   ]
  },
  {
   "cell_type": "markdown",
   "metadata": {},
   "source": [
    "## Meeting silicon neuron for the first time! Hello Neuron"
   ]
  },
  {
   "cell_type": "markdown",
   "metadata": {},
   "source": [
    "### Import libraries"
   ]
  },
  {
   "cell_type": "code",
   "execution_count": 4,
   "metadata": {},
   "outputs": [],
   "source": [
    "from brian2 import *"
   ]
  },
  {
   "cell_type": "markdown",
   "metadata": {},
   "source": [
    "**`DynapSE.py` wrapper class implements the DPI neuron, synaptic circuit models and monitors chip resources (e.g., number of available neurons per core, number of synapses between neurons, etc.)**"
   ]
  },
  {
   "cell_type": "code",
   "execution_count": 5,
   "metadata": {},
   "outputs": [],
   "source": [
    "from DynapSE import DynapSE"
   ]
  },
  {
   "cell_type": "code",
   "execution_count": 6,
   "metadata": {},
   "outputs": [],
   "source": [
    "import numpy as np\n",
    "import matplotlib as mpl\n",
    "import matplotlib.pyplot as plt\n",
    "\n",
    "# Display plots inside Jupyter cell\n",
    "%matplotlib inline \n",
    "# Set the dots-per-inch (resolution) of the images\n",
    "mpl.rcParams['figure.dpi'] = 90"
   ]
  },
  {
   "cell_type": "markdown",
   "metadata": {},
   "source": [
    "The ordinary differential equations defining neuron and synapse models should be accessible by Brian2. Let's import the model equations and their parameters."
   ]
  },
  {
   "cell_type": "code",
   "execution_count": 7,
   "metadata": {},
   "outputs": [],
   "source": [
    "from equations.dynapse_eq import *\n",
    "from parameters.dynapse_param import *\n",
    "\n",
    "# C++ code generation for faster spiking network simulation\n",
    "set_device('cpp_standalone')\n",
    "# Ignore Brian2 base warnings\n",
    "BrianLogger.suppress_name('base')\n",
    "# The clock of Brian2 simulation for numerically solve ODEs\n",
    "defaultclock.dt = 20 * us"
   ]
  },
  {
   "cell_type": "markdown",
   "metadata": {},
   "source": [
    "#### Some tips and a note on Hardware restrictions"
   ]
  },
  {
   "cell_type": "markdown",
   "metadata": {},
   "source": [
    "<div class=\"alert alert-block alert-info\">\n",
    "\n",
    "**COREs**\n",
    "***\n",
    "\n",
    "In the simulation, you can allocate `num_n` neurons from a core `X` by using `get_neurons(num_n, 'Core_X')` method, where X range from 0 to 4, which returns a [SubGroup](https://brian2.readthedocs.io/en/stable/reference/brian2.groups.subgroup.Subgroup.html) of DPI neurons.\n",
    "\n",
    "***\n",
    "**CONNECTIVITY**\n",
    "***\n",
    "\n",
    "- An individual neuron can have a <b>fan-in of 64</b> and a <b>fan-out of 4k connections</b>. \n",
    "- The synapses exhibits one of 4 different behaviors: \n",
    "    - AMPA (excitatory), \n",
    "    - NMDA (excitatory), \n",
    "    - GABA_B (subtractive inhibitory), \n",
    "    - or GABA_A (shunting inhibitory). \n",
    "    \n",
    "\n",
    "User can connect different neurons (which are obtained with `get_neurons()`) to each other using `add_connection(pre_population, post_population, synapse_type)` method. Synapse type can be either `AMPA`, `NMDA`, `GABA_B` and `GABA_A`.\n",
    "\n",
    "\n",
    "***\n",
    "\n",
    "**DPI neuronal parameters:**\n",
    "***\n",
    "\n",
    "- $Ith$: the gain factor of neuron.\n",
    "- $Itau$: the membrane time-constant of leakage current.\n",
    "- $refP$: refractory period.\n",
    "\n",
    "***\n",
    "\n",
    "**AMPA synaptic parameters:**\n",
    "***\n",
    "\n",
    "- I_tau_syn_ampa: corresponds to leakage current, i.e. how much current is constantly leaked away. It represents the time-constant of current decay.\n",
    "- I_g_syn_ampa: the gain factor of the synapse.\n",
    "\n",
    "These 2 parameters are implemented in the DYNAP-SE1 circuit. Besides, you still have `DPI_synapse.weight`. In Brian2, it's the weight of a single synapse, but in hardware reality, this corresponds to the number of physical connections you create between two silicon neurons. Thus, `DPI_synapse.weight` can only be integers.\n",
    "\n",
    "<br/>\n",
    "<br/>\n",
    "If you need more details, please feel free to check initial parameter values (and units) in file \"parameters/dynapse_param.py\".\n",
    "    \n",
    "</div>    "
   ]
  },
  {
   "cell_type": "markdown",
   "metadata": {},
   "source": [
    "### Creating a network in a \"DYNAP-SE1 chip\""
   ]
  },
  {
   "cell_type": "markdown",
   "metadata": {},
   "source": [
    "Do you remember `Network`?? Let's bring it back here. \n",
    "***\n",
    "\n",
    "**Step 1:**\n",
    "Create a **placeholder** (i.e, empty) `network` instance, we will pass it to the `DynapSE()` method to create a new `chip` instance.\n",
    "\n",
    "***"
   ]
  },
  {
   "cell_type": "code",
   "execution_count": 8,
   "metadata": {},
   "outputs": [
    {
     "ename": "SyntaxError",
     "evalue": "Error during evaluation of sympy expression '(- Ithahp_clip - Iahp + 2*Io*(Iahp<=Io)) / (tauahp * (Ithahp_clip / Iahp + 1)) ': Relational can not be used in Mul (<string>)",
     "output_type": "error",
     "traceback": [
      "Traceback \u001b[0;36m(most recent call last)\u001b[0m:\n",
      "  File \u001b[1;32m\"/Library/Frameworks/Python.framework/Versions/3.10/lib/python3.10/site-packages/brian2/parsing/sympytools.py\"\u001b[0m, line \u001b[1;32m82\u001b[0m, in \u001b[1;35m_str_to_sympy\u001b[0m\n    s_expr = SympyNodeRenderer().render_expr(expr)\n",
      "  File \u001b[1;32m\"/Library/Frameworks/Python.framework/Versions/3.10/lib/python3.10/site-packages/brian2/parsing/rendering.py\"\u001b[0m, line \u001b[1;32m66\u001b[0m, in \u001b[1;35mrender_expr\u001b[0m\n    return self.render_node(node.body)\n",
      "  File \u001b[1;32m\"/Library/Frameworks/Python.framework/Versions/3.10/lib/python3.10/site-packages/brian2/parsing/rendering.py\"\u001b[0m, line \u001b[1;32m78\u001b[0m, in \u001b[1;35mrender_node\u001b[0m\n    return getattr(self, methname)(node)\n",
      "  File \u001b[1;32m\"/Library/Frameworks/Python.framework/Versions/3.10/lib/python3.10/site-packages/brian2/parsing/rendering.py\"\u001b[0m, line \u001b[1;32m273\u001b[0m, in \u001b[1;35mrender_BinOp\u001b[0m\n    return op(self.render_node(node.left),\n",
      "  File \u001b[1;32m\"/Library/Frameworks/Python.framework/Versions/3.10/lib/python3.10/site-packages/brian2/parsing/rendering.py\"\u001b[0m, line \u001b[1;32m78\u001b[0m, in \u001b[1;35mrender_node\u001b[0m\n    return getattr(self, methname)(node)\n",
      "  File \u001b[1;32m\"/Library/Frameworks/Python.framework/Versions/3.10/lib/python3.10/site-packages/brian2/parsing/rendering.py\"\u001b[0m, line \u001b[1;32m286\u001b[0m, in \u001b[1;35mrender_BinOp\u001b[0m\n    return op(self.render_node(node.left), self.render_node(node.right))\n",
      "  File \u001b[1;32m\"/Library/Frameworks/Python.framework/Versions/3.10/lib/python3.10/site-packages/brian2/parsing/rendering.py\"\u001b[0m, line \u001b[1;32m78\u001b[0m, in \u001b[1;35mrender_node\u001b[0m\n    return getattr(self, methname)(node)\n",
      "  File \u001b[1;32m\"/Library/Frameworks/Python.framework/Versions/3.10/lib/python3.10/site-packages/brian2/parsing/rendering.py\"\u001b[0m, line \u001b[1;32m286\u001b[0m, in \u001b[1;35mrender_BinOp\u001b[0m\n    return op(self.render_node(node.left), self.render_node(node.right))\n",
      "  File \u001b[1;32m\"/Library/Frameworks/Python.framework/Versions/3.10/lib/python3.10/site-packages/sympy/core/cache.py\"\u001b[0m, line \u001b[1;32m72\u001b[0m, in \u001b[1;35mwrapper\u001b[0m\n    retval = cfunc(*args, **kwargs)\n",
      "\u001b[0;36m  File \u001b[0;32m\"/Library/Frameworks/Python.framework/Versions/3.10/lib/python3.10/site-packages/sympy/core/operations.py\"\u001b[0;36m, line \u001b[0;32m60\u001b[0;36m, in \u001b[0;35m__new__\u001b[0;36m\u001b[0m\n\u001b[0;31m    raise TypeError(\"Relational can not be used in %s\" % cls.__name__)\u001b[0m\n",
      "\u001b[0;31mTypeError\u001b[0m\u001b[0;31m:\u001b[0m Relational can not be used in Mul\n",
      "\nDuring handling of the above exception, another exception occurred:\n",
      "Traceback \u001b[0;36m(most recent call last)\u001b[0m:\n",
      "  File \u001b[1;32m\"/Library/Frameworks/Python.framework/Versions/3.10/lib/python3.10/site-packages/IPython/core/interactiveshell.py\"\u001b[0m, line \u001b[1;32m3444\u001b[0m, in \u001b[1;35mrun_code\u001b[0m\n    exec(code_obj, self.user_global_ns, self.user_ns)\n",
      "  File \u001b[1;32m\"/var/folders/t3/v98l9wvd5v31cyynx1lwx12r0000gn/T/ipykernel_9702/1494283479.py\"\u001b[0m, line \u001b[1;32m2\u001b[0m, in \u001b[1;35m<module>\u001b[0m\n    chip = DynapSE(network)\n",
      "  File \u001b[1;32m\"/Users/tristantorchet/Desktop/MA2/NI/NI_lab2_0/DynapSE.py\"\u001b[0m, line \u001b[1;32m36\u001b[0m, in \u001b[1;35m__init__\u001b[0m\n    self.cores             = [Core(neurons_per_core, Network, name='Core_'+str(i)) for i in range(num_cores)]\n",
      "  File \u001b[1;32m\"/Users/tristantorchet/Desktop/MA2/NI/NI_lab2_0/DynapSE.py\"\u001b[0m, line \u001b[1;32m36\u001b[0m, in \u001b[1;35m<listcomp>\u001b[0m\n    self.cores             = [Core(neurons_per_core, Network, name='Core_'+str(i)) for i in range(num_cores)]\n",
      "  File \u001b[1;32m\"/Users/tristantorchet/Desktop/MA2/NI/NI_lab2_0/DynapSE.py\"\u001b[0m, line \u001b[1;32m142\u001b[0m, in \u001b[1;35m__init__\u001b[0m\n    self.neurons     = NeuronGroup(num_neurons, **dynapse_eq(), name=name)\n",
      "  File \u001b[1;32m\"/Library/Frameworks/Python.framework/Versions/3.10/lib/python3.10/site-packages/brian2/groups/neurongroup.py\"\u001b[0m, line \u001b[1;32m499\u001b[0m, in \u001b[1;35m__init__\u001b[0m\n    model = Equations(model)\n",
      "  File \u001b[1;32m\"/Library/Frameworks/Python.framework/Versions/3.10/lib/python3.10/site-packages/brian2/equations/equations.py\"\u001b[0m, line \u001b[1;32m554\u001b[0m, in \u001b[1;35m__init__\u001b[0m\n    self._equations = parse_string_equations(eqns)\n",
      "  File \u001b[1;32m\"/Library/Frameworks/Python.framework/Versions/3.10/lib/python3.10/site-packages/brian2/utils/caching.py\"\u001b[0m, line \u001b[1;32m101\u001b[0m, in \u001b[1;35mcached_func\u001b[0m\n    func._cache[cache_key] = func(*args, **kwds)\n",
      "  File \u001b[1;32m\"/Library/Frameworks/Python.framework/Versions/3.10/lib/python3.10/site-packages/brian2/equations/equations.py\"\u001b[0m, line \u001b[1;32m366\u001b[0m, in \u001b[1;35mparse_string_equations\u001b[0m\n    expression = Expression(p.sub(' ', expression))\n",
      "  File \u001b[1;32m\"/Library/Frameworks/Python.framework/Versions/3.10/lib/python3.10/site-packages/brian2/equations/codestrings.py\"\u001b[0m, line \u001b[1;32m107\u001b[0m, in \u001b[1;35m__init__\u001b[0m\n    str_to_sympy(code)\n",
      "  File \u001b[1;32m\"/Library/Frameworks/Python.framework/Versions/3.10/lib/python3.10/site-packages/brian2/parsing/sympytools.py\"\u001b[0m, line \u001b[1;32m76\u001b[0m, in \u001b[1;35mstr_to_sympy\u001b[0m\n    return _str_to_sympy(expr)\n",
      "  File \u001b[1;32m\"/Library/Frameworks/Python.framework/Versions/3.10/lib/python3.10/site-packages/brian2/utils/caching.py\"\u001b[0m, line \u001b[1;32m101\u001b[0m, in \u001b[1;35mcached_func\u001b[0m\n    func._cache[cache_key] = func(*args, **kwds)\n",
      "\u001b[0;36m  File \u001b[0;32m\"/Library/Frameworks/Python.framework/Versions/3.10/lib/python3.10/site-packages/brian2/parsing/sympytools.py\"\u001b[0;36m, line \u001b[0;32m84\u001b[0;36m, in \u001b[0;35m_str_to_sympy\u001b[0;36m\u001b[0m\n\u001b[0;31m    raise SyntaxError(f\"Error during evaluation of sympy expression \"\u001b[0m\n",
      "\u001b[0;36m  File \u001b[0;32m\"<string>\"\u001b[0;36m, line \u001b[0;32munknown\u001b[0m\n\u001b[0;31mSyntaxError\u001b[0m\u001b[0;31m:\u001b[0m Error during evaluation of sympy expression '(- Ithahp_clip - Iahp + 2*Io*(Iahp<=Io)) / (tauahp * (Ithahp_clip / Iahp + 1)) ': Relational can not be used in Mul\n"
     ]
    }
   ],
   "source": [
    "network = Network()\n",
    "chip = DynapSE(network)"
   ]
  },
  {
   "cell_type": "markdown",
   "metadata": {},
   "source": [
    "***\n",
    "\n",
    "**Step 2:** Simulate a simple network, here are sequence of steps but you can do as you like as well.\n",
    "***\n",
    "\n",
    "**A:** Allocate a single neuron from the *any* core of DYNAP-SE1. Hint: use `get_neurons` from `DynapSE`. Syntax is provided for your convinence. `chip.get_neurons`\n",
    "\n",
    "**B:** Send a single spike via the synapse. You can use `SpikeGeneratorGroup` from Brian2.\n",
    "\n",
    "**C:** Define an AMPA synapse to connection a spike generator to this neuron. Hint: use `add_connection` from `DynapSE` and `connect` from Brian2.\n",
    "\n",
    "**D:** Create a state monitor to monitor the output firing rate of the neuron. Use `StateMonitor` with **I_syn_ampa** as to_record variable.\n",
    "\n",
    "**E:** Finally, add all the components into the `Network`.\n",
    "\n",
    "**F:** Ofcourse, don't forget to simulate the network. Hint: use `network.run()`\n",
    "\n",
    "**G:** One last thing, Plot the output current of AMPA synapse that enters to neuron. That's why we observed *I_syn_ampa*\n",
    "\n",
    "Remember, this network is still running on your machine but the dynamics are similar to our neuromorphic chip \n",
    "***\n",
    "\n",
    "<p style=\"color:red;font-size:20px;\"> \n",
    "Attention!! Simulate for a very small time period, things can go extreamly slow. ~ 50ms is recommended\n",
    " </p>\n"
   ]
  },
  {
   "cell_type": "code",
   "execution_count": null,
   "metadata": {},
   "outputs": [],
   "source": [
    "# ADD a Brian2 spikeGenerator and send 1 spike at 0th second\n",
    "indices = [0]\n",
    "times = [0]*second\n",
    "\n",
    "spike_generator = #SpikeGeneratorGroup(1, indices, times)\n",
    "\n",
    "# Allocate single neuron from Core 1\n",
    "core_name = # which core, Core_#\n",
    "neuron_num = # how many neuron\n",
    "DPI_neuron  = chip.get_neurons(...count of neuron..., ..core name...)\n",
    "\n",
    "# Connect the spike generator to the neuron using AMPA synapse \n",
    "DPI_synapse = chip.add_connection(...source.., ...target...., synapse_type=...synase_type....)\n",
    "\n",
    "# In Brian2 creating a Synapses instance does not create synapses, it only specifies their dynamics.\n",
    "# so remember to call connect function to really build the connection\n",
    "chip.connect(DPI_synapse, True)\n",
    "\n",
    "# here we set an initial weight of 200.\n",
    "DPI_synapse.weight = # set your weight, try using 200 "
   ]
  },
  {
   "cell_type": "code",
   "execution_count": null,
   "metadata": {},
   "outputs": [],
   "source": [
    "# monitors\n",
    "mon_synapse_state = StateMonitor(...object to monitor..., ...variable to monitor..., record=[0])\n",
    "mon_neuron_input  = SpikeMonitor(...object to monitor...,, name='mon_neuron_input')\n",
    "\n",
    "# add all the instances into the network\n",
    "network.add([...add elements here...])"
   ]
  },
  {
   "cell_type": "code",
   "execution_count": null,
   "metadata": {},
   "outputs": [],
   "source": [
    "# Simulate for 50 ms\n",
    "duration = 50 * ms\n",
    "network.run(.....)"
   ]
  },
  {
   "cell_type": "code",
   "execution_count": null,
   "metadata": {},
   "outputs": [],
   "source": [
    "# Plot change in current vs time, for a period of 0-10 ms\n",
    "s = int(1*ms / defaultclock.dt)\n",
    "tstart = 0 # ms \n",
    "tend   = 10 # ms\n",
    "plt.figure(figsize=(4,2), dpi=150)\n",
    "# todo\n",
    "plt.plot(...read time...,...read value of current..)\n",
    "plt.legend(['$I_{syn}$'])\n",
    "plt.title('Synaptic Current')\n",
    "plt.ylabel('Current (A)')\n",
    "plt.xlabel('Time (ms)')\n",
    "plt.grid(True)"
   ]
  },
  {
   "cell_type": "code",
   "execution_count": null,
   "metadata": {},
   "outputs": [],
   "source": [
    "# Input Spikes, for verification \n",
    "times = int(duration/ms)\n",
    "\n",
    "spike_placeholder = np.zeros(times)\n",
    "spike_placeholder[np.array(mon_neuron_input.t/ms, dtype=int)]=1\n",
    "plt.plot(spike_placeholder,'k|')\n",
    "matplotlib.pyplot.yticks(range(1, 3))\n",
    "plt.ylim(0.5, 1.5)\n",
    "plt.title('Input Spikes')\n",
    "plt.ylabel('Neuron ID')"
   ]
  },
  {
   "cell_type": "markdown",
   "metadata": {},
   "source": [
    "What's the time constant of the AMPA synapse? Remember what you learned in the lecture? AMPA is a fast excitatory synapse.\n",
    "\n",
    "\n",
    "<div class=\"alert alert-block alert-success\">\n",
    "    \n",
    "<b>Answer the following as a Markdown cell</b>. \n",
    "- AMPA is excitatory synapse: True/False?\n",
    "- What's the time constant of the AMPA synapse? \n",
    "- Is AMPA a slow or fast synapse.\n",
    "</div>\n",
    "\n",
    "***\n",
    "**Add your answers here**\n",
    "***\n",
    "\n"
   ]
  },
  {
   "cell_type": "markdown",
   "metadata": {},
   "source": [
    "### Simulation with Poisson input\n",
    "***\n",
    "\n",
    "**Step 3:** Re-run your network for a Poisson input at 100 Hz, and check the output firing rate of the neuron.Simulate for 3 seconds, and check the firing rate of the neuron.\n",
    "\n",
    "***\n",
    "<b>A: Monitor the following neurons </b>\n",
    "- I_syn_ampa\n",
    "- Imem\n",
    "- and record input and output spikes\n",
    "\n",
    "<b>B: Plot Input spikes, membrane current, and output spikes to understand the neuron's response.</b>\n",
    "\n",
    "<b>C: Feel free to adjust weight of your synapse\n",
    "    \n",
    "    \n",
    "***\n",
    "    "
   ]
  },
  {
   "cell_type": "code",
   "execution_count": null,
   "metadata": {},
   "outputs": [],
   "source": [
    "# Add code here"
   ]
  },
  {
   "cell_type": "markdown",
   "metadata": {},
   "source": [
    "Let's calculate the output firing rate of the neuron."
   ]
  },
  {
   "cell_type": "code",
   "execution_count": null,
   "metadata": {},
   "outputs": [],
   "source": [
    "print(mon_neuron_output.count/ duration)"
   ]
  },
  {
   "cell_type": "markdown",
   "metadata": {},
   "source": [
    "Printing values for a few constant"
   ]
  },
  {
   "cell_type": "code",
   "execution_count": null,
   "metadata": {},
   "outputs": [],
   "source": [
    "display(DPI_neuron.Ith)\n",
    "display(DPI_neuron.Itau)\n",
    "display(DPI_neuron.refP)\n",
    "display(DPI_synapse.I_tau_syn_ampa)\n",
    "display(DPI_synapse.I_g_syn_ampa)"
   ]
  },
  {
   "cell_type": "markdown",
   "metadata": {},
   "source": [
    "<div class=\"alert alert-block alert-info\">\n",
    "\n",
    "***\n",
    "**Bias Generator (BiasGen)**\n",
    "***\n",
    "**Usage :** It enables a user to adjust neuron and synapse parameters. For instance, membrane time constant.\n",
    "\n",
    "**How it works? :** BiasGen is a configurable current generator that biases the gate voltage of specific transistors on the chip to generate the desired currents.\n",
    "\n",
    "***\n",
    "In the next exercise, we will tune parameter for AMPA synapse and neuron, to achieve the desired output firing rate.\n",
    "***\n",
    "    \n",
    "</div>    "
   ]
  }
 ],
 "metadata": {
  "kernelspec": {
   "display_name": "Python 3 (ipykernel)",
   "language": "python",
   "name": "python3"
  },
  "language_info": {
   "codemirror_mode": {
    "name": "ipython",
    "version": 3
   },
   "file_extension": ".py",
   "mimetype": "text/x-python",
   "name": "python",
   "nbconvert_exporter": "python",
   "pygments_lexer": "ipython3",
   "version": "3.10.0"
  },
  "toc": {
   "base_numbering": 1,
   "nav_menu": {},
   "number_sections": true,
   "sideBar": true,
   "skip_h1_title": true,
   "title_cell": "Table of Contents",
   "title_sidebar": "Contents",
   "toc_cell": true,
   "toc_position": {},
   "toc_section_display": true,
   "toc_window_display": true
  }
 },
 "nbformat": 4,
 "nbformat_minor": 4
}
